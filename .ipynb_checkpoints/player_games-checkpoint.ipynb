{
 "cells": [
  {
   "cell_type": "code",
   "execution_count": 14,
   "id": "5717be36-0f5e-46d8-a686-3be3791cb4f7",
   "metadata": {},
   "outputs": [],
   "source": [
    "# Imports\n",
    "from chessdotcom import *\n",
    "import pprint\n",
    "import requests\n",
    "\n",
    "import urllib.request\n",
    "import json\n",
    "\n",
    "import numpy as np\n",
    "import pandas as pd\n",
    "import pickle\n",
    "import json\n",
    "import time\n",
    "\n",
    "from datetime import datetime"
   ]
  },
  {
   "cell_type": "code",
   "execution_count": 15,
   "id": "df8846f6-7e9e-4746-bfb3-308aae5d9b9d",
   "metadata": {},
   "outputs": [],
   "source": [
    "## Configure Headers, as the Project uses requests package to interact with the API. Headers and paxis can be set\n",
    "## through the Client Object.\n",
    "from chessdotcom import Client\n",
    "\n",
    "Client.request_config[\"headers\"][\"User-Agent\"] = (\n",
    " \"Machine learning for chess match outcome Prediction, BSc in Computer Science Dissertation, University of Lincoln\"\n",
    " \"Contact me at conorjackvincent@live.co.uk\"\n",
    ")\n",
    "\n",
    "Client.rate_limit_handler.tries = 2\n",
    "Client.rate_limit_handler.tts = 4"
   ]
  },
  {
   "cell_type": "code",
   "execution_count": 6,
   "id": "863bcc03-f9ea-4df4-9f80-76a8d8fd5772",
   "metadata": {},
   "outputs": [],
   "source": [
    "## Load the player_profiles_orginal.pkl file, so that we can use this pandas dataframes usernames to collect further statistical data in terms of game history.\n",
    "with open('Collected_Chess_Data/fm_cm_player_profiles.pkl', 'rb') as file:\n",
    "    player_profiles = pickle.load(file)"
   ]
  },
  {
   "cell_type": "code",
   "execution_count": 7,
   "id": "9f228dc2-0119-4c39-a799-c5b3b2293890",
   "metadata": {},
   "outputs": [
    {
     "name": "stdout",
     "output_type": "stream",
     "text": [
      "<class 'pandas.core.frame.DataFrame'>\n",
      "Index: 5042 entries, 0 to 1470\n",
      "Data columns (total 10 columns):\n",
      " #   Column        Non-Null Count  Dtype \n",
      "---  ------        --------------  ----- \n",
      " 0   name          4073 non-null   object\n",
      " 1   username      5042 non-null   object\n",
      " 2   title         5042 non-null   object\n",
      " 3   followers     5042 non-null   int64 \n",
      " 4   country_code  5042 non-null   object\n",
      " 5   country       5042 non-null   object\n",
      " 6   status        5042 non-null   object\n",
      " 7   is_streamer   5042 non-null   bool  \n",
      " 8   verified      5042 non-null   bool  \n",
      " 9   league        4389 non-null   object\n",
      "dtypes: bool(2), int64(1), object(7)\n",
      "memory usage: 364.4+ KB\n"
     ]
    }
   ],
   "source": [
    "player_profiles.info()"
   ]
  },
  {
   "cell_type": "code",
   "execution_count": 8,
   "id": "2b782e57-541d-4244-866b-12132832e397",
   "metadata": {},
   "outputs": [],
   "source": [
    "# Create a list containing all the usernames in the username column of player_profiles pandas df.\n",
    "usernames = player_profiles['username'].tolist()\n",
    "if 'sanghvipuneet' in usernames:\n",
    "    print(True)"
   ]
  },
  {
   "cell_type": "code",
   "execution_count": 9,
   "id": "07b7eb78-2fc1-4c8a-a1d8-bd416cc0c7fe",
   "metadata": {},
   "outputs": [],
   "source": [
    "def obtain_usermame_archives(usernames):\n",
    "    user_game_archive = {}\n",
    "\n",
    "    counter = 0 # Counter for displaying progress.\n",
    "    retry = 0 # Counter for retry attempts.\n",
    "\n",
    "    \n",
    "    for username in usernames:\n",
    "        try:\n",
    "            # Retrieve player statistics for the current username.\n",
    "            player_archives_response = get_player_game_archives(username)\n",
    "            json_structure = player_archives_response.json\n",
    "\n",
    "            user_game_archive[username] = json_structure\n",
    "            \n",
    "            # Print the counter, overwriting the previous counter.\n",
    "            counter+=1\n",
    "            print(f'\\r{counter} {username}', end='', flush=True)\n",
    "            \n",
    "        except ChessDotComError as e:\n",
    "            # Handle the ChessDotComError and retry\n",
    "            print(f'\\rError for {username}: {e}')\n",
    "            if retry < 15:\n",
    "                retry += 1\n",
    "                print(f'\\rRetrying for {username} attempt {retry}...')\n",
    "                    \n",
    "            # If max retries reached, move on to the next username\n",
    "            else:\n",
    "                print(f'\\rMax retries reached for {username}. Moving on.')\n",
    "                fail_list.append(username)\n",
    "                retry = 0\n",
    "                break\n",
    "\n",
    "    return user_game_archive"
   ]
  },
  {
   "cell_type": "code",
   "execution_count": 10,
   "id": "4b265c94-de67-4168-8660-ee505ae1526a",
   "metadata": {},
   "outputs": [
    {
     "name": "stdout",
     "output_type": "stream",
     "text": [
      "5042 zverr1lev201012hat4en0myr"
     ]
    }
   ],
   "source": [
    "user_game_archive = obtain_usermame_archives(usernames)"
   ]
  },
  {
   "cell_type": "code",
   "execution_count": 15,
   "id": "2f7c3fb5-c8e4-4154-b7bd-3515ec3f9603",
   "metadata": {},
   "outputs": [
    {
     "data": {
      "text/plain": [
       "{'archives': ['https://api.chess.com/pub/player/16wise/games/2016/12',\n",
       "  'https://api.chess.com/pub/player/16wise/games/2018/08',\n",
       "  'https://api.chess.com/pub/player/16wise/games/2018/09',\n",
       "  'https://api.chess.com/pub/player/16wise/games/2018/10',\n",
       "  'https://api.chess.com/pub/player/16wise/games/2018/11',\n",
       "  'https://api.chess.com/pub/player/16wise/games/2018/12',\n",
       "  'https://api.chess.com/pub/player/16wise/games/2019/01',\n",
       "  'https://api.chess.com/pub/player/16wise/games/2019/02',\n",
       "  'https://api.chess.com/pub/player/16wise/games/2019/03',\n",
       "  'https://api.chess.com/pub/player/16wise/games/2019/04',\n",
       "  'https://api.chess.com/pub/player/16wise/games/2019/05',\n",
       "  'https://api.chess.com/pub/player/16wise/games/2019/06',\n",
       "  'https://api.chess.com/pub/player/16wise/games/2019/07',\n",
       "  'https://api.chess.com/pub/player/16wise/games/2019/08',\n",
       "  'https://api.chess.com/pub/player/16wise/games/2019/09',\n",
       "  'https://api.chess.com/pub/player/16wise/games/2019/10',\n",
       "  'https://api.chess.com/pub/player/16wise/games/2019/11',\n",
       "  'https://api.chess.com/pub/player/16wise/games/2019/12',\n",
       "  'https://api.chess.com/pub/player/16wise/games/2020/01',\n",
       "  'https://api.chess.com/pub/player/16wise/games/2020/02',\n",
       "  'https://api.chess.com/pub/player/16wise/games/2020/03',\n",
       "  'https://api.chess.com/pub/player/16wise/games/2020/04',\n",
       "  'https://api.chess.com/pub/player/16wise/games/2021/06',\n",
       "  'https://api.chess.com/pub/player/16wise/games/2021/07',\n",
       "  'https://api.chess.com/pub/player/16wise/games/2021/08',\n",
       "  'https://api.chess.com/pub/player/16wise/games/2021/09',\n",
       "  'https://api.chess.com/pub/player/16wise/games/2021/10',\n",
       "  'https://api.chess.com/pub/player/16wise/games/2021/11',\n",
       "  'https://api.chess.com/pub/player/16wise/games/2021/12',\n",
       "  'https://api.chess.com/pub/player/16wise/games/2022/01',\n",
       "  'https://api.chess.com/pub/player/16wise/games/2022/02',\n",
       "  'https://api.chess.com/pub/player/16wise/games/2022/03',\n",
       "  'https://api.chess.com/pub/player/16wise/games/2022/04',\n",
       "  'https://api.chess.com/pub/player/16wise/games/2022/05',\n",
       "  'https://api.chess.com/pub/player/16wise/games/2022/06',\n",
       "  'https://api.chess.com/pub/player/16wise/games/2022/07',\n",
       "  'https://api.chess.com/pub/player/16wise/games/2022/08',\n",
       "  'https://api.chess.com/pub/player/16wise/games/2022/09',\n",
       "  'https://api.chess.com/pub/player/16wise/games/2022/10',\n",
       "  'https://api.chess.com/pub/player/16wise/games/2023/04',\n",
       "  'https://api.chess.com/pub/player/16wise/games/2023/05',\n",
       "  'https://api.chess.com/pub/player/16wise/games/2023/06',\n",
       "  'https://api.chess.com/pub/player/16wise/games/2023/07',\n",
       "  'https://api.chess.com/pub/player/16wise/games/2023/08',\n",
       "  'https://api.chess.com/pub/player/16wise/games/2023/09',\n",
       "  'https://api.chess.com/pub/player/16wise/games/2023/10',\n",
       "  'https://api.chess.com/pub/player/16wise/games/2023/11',\n",
       "  'https://api.chess.com/pub/player/16wise/games/2023/12',\n",
       "  'https://api.chess.com/pub/player/16wise/games/2024/01',\n",
       "  'https://api.chess.com/pub/player/16wise/games/2024/02',\n",
       "  'https://api.chess.com/pub/player/16wise/games/2024/03',\n",
       "  'https://api.chess.com/pub/player/16wise/games/2024/04']}"
      ]
     },
     "execution_count": 15,
     "metadata": {},
     "output_type": "execute_result"
    }
   ],
   "source": [
    "user_game_archive[usernames[7]]"
   ]
  },
  {
   "cell_type": "code",
   "execution_count": 12,
   "id": "311b7a24-e5da-402f-858e-fb2030e4f83c",
   "metadata": {},
   "outputs": [],
   "source": [
    "with open('Collected_Chess_Data/fm_cm_user_game_archives.pkl', 'wb') as file:\n",
    "    pickle.dump(user_game_archive, file)"
   ]
  },
  {
   "cell_type": "code",
   "execution_count": 13,
   "id": "00ddf5c9-886a-4ea2-a7f8-e248bc80246e",
   "metadata": {},
   "outputs": [],
   "source": [
    "with open('Collected_Chess_Data/fm_cm_user_game_archives.pkl', 'rb') as file:\n",
    "    loaded_archives = pickle.load(file)"
   ]
  },
  {
   "cell_type": "code",
   "execution_count": 14,
   "id": "9272d25b-9a00-43f8-9ea1-7cfbb7b8bb57",
   "metadata": {},
   "outputs": [
    {
     "data": {
      "text/plain": [
       "{'archives': ['https://api.chess.com/pub/player/0wl0wl/games/2019/01',\n",
       "  'https://api.chess.com/pub/player/0wl0wl/games/2019/02',\n",
       "  'https://api.chess.com/pub/player/0wl0wl/games/2019/03',\n",
       "  'https://api.chess.com/pub/player/0wl0wl/games/2019/06',\n",
       "  'https://api.chess.com/pub/player/0wl0wl/games/2020/07',\n",
       "  'https://api.chess.com/pub/player/0wl0wl/games/2020/08',\n",
       "  'https://api.chess.com/pub/player/0wl0wl/games/2020/09',\n",
       "  'https://api.chess.com/pub/player/0wl0wl/games/2020/12',\n",
       "  'https://api.chess.com/pub/player/0wl0wl/games/2021/03',\n",
       "  'https://api.chess.com/pub/player/0wl0wl/games/2021/04',\n",
       "  'https://api.chess.com/pub/player/0wl0wl/games/2021/05',\n",
       "  'https://api.chess.com/pub/player/0wl0wl/games/2021/06',\n",
       "  'https://api.chess.com/pub/player/0wl0wl/games/2021/07',\n",
       "  'https://api.chess.com/pub/player/0wl0wl/games/2021/08',\n",
       "  'https://api.chess.com/pub/player/0wl0wl/games/2021/09',\n",
       "  'https://api.chess.com/pub/player/0wl0wl/games/2021/10',\n",
       "  'https://api.chess.com/pub/player/0wl0wl/games/2021/11',\n",
       "  'https://api.chess.com/pub/player/0wl0wl/games/2021/12',\n",
       "  'https://api.chess.com/pub/player/0wl0wl/games/2022/01',\n",
       "  'https://api.chess.com/pub/player/0wl0wl/games/2023/07',\n",
       "  'https://api.chess.com/pub/player/0wl0wl/games/2023/08',\n",
       "  'https://api.chess.com/pub/player/0wl0wl/games/2023/09',\n",
       "  'https://api.chess.com/pub/player/0wl0wl/games/2023/10',\n",
       "  'https://api.chess.com/pub/player/0wl0wl/games/2023/11',\n",
       "  'https://api.chess.com/pub/player/0wl0wl/games/2023/12',\n",
       "  'https://api.chess.com/pub/player/0wl0wl/games/2024/02',\n",
       "  'https://api.chess.com/pub/player/0wl0wl/games/2024/04']}"
      ]
     },
     "execution_count": 14,
     "metadata": {},
     "output_type": "execute_result"
    }
   ],
   "source": [
    "loaded_archives[usernames[4]]"
   ]
  },
  {
   "cell_type": "code",
   "execution_count": 16,
   "id": "474a92b3-dce7-4a7b-b928-9dd834992145",
   "metadata": {},
   "outputs": [],
   "source": [
    "test = loaded_archives[usernames[7]]['archives']"
   ]
  },
  {
   "cell_type": "code",
   "execution_count": 17,
   "id": "4888e040-1ee3-4eb7-9c5e-b7ae6dc64750",
   "metadata": {},
   "outputs": [
    {
     "name": "stdout",
     "output_type": "stream",
     "text": [
      "https://api.chess.com/pub/player/16wise/games/2016/12\n"
     ]
    }
   ],
   "source": [
    "print(test[0])"
   ]
  },
  {
   "cell_type": "code",
   "execution_count": 18,
   "id": "cd0965ff-ceeb-4a9b-8bc8-2d9bde3ff5d2",
   "metadata": {},
   "outputs": [],
   "source": [
    "with urllib.request.urlopen(test[0]) as url:\n",
    "    data = json.load(url)"
   ]
  },
  {
   "cell_type": "code",
   "execution_count": 19,
   "id": "5d3c5c94-b491-487f-b5bf-f425611a2fe2",
   "metadata": {},
   "outputs": [
    {
     "name": "stdout",
     "output_type": "stream",
     "text": [
      "dict_keys(['games'])\n"
     ]
    }
   ],
   "source": [
    "# This shows that the loaded url contains a dictionary, with a singular key, games.\n",
    "\n",
    "with urllib.request.urlopen(test[0]) as url:\n",
    "    data = json.load(url)\n",
    "    print(data.keys())"
   ]
  },
  {
   "cell_type": "code",
   "execution_count": 20,
   "id": "8115cd22-bffe-4585-9997-3b471d8dfa80",
   "metadata": {},
   "outputs": [
    {
     "ename": "IndexError",
     "evalue": "list index out of range",
     "output_type": "error",
     "traceback": [
      "\u001b[1;31m---------------------------------------------------------------------------\u001b[0m",
      "\u001b[1;31mIndexError\u001b[0m                                Traceback (most recent call last)",
      "Cell \u001b[1;32mIn[20], line 4\u001b[0m\n\u001b[0;32m      2\u001b[0m \u001b[38;5;28;01mwith\u001b[39;00m urllib\u001b[38;5;241m.\u001b[39mrequest\u001b[38;5;241m.\u001b[39murlopen(test[\u001b[38;5;241m0\u001b[39m]) \u001b[38;5;28;01mas\u001b[39;00m url:\n\u001b[0;32m      3\u001b[0m     data \u001b[38;5;241m=\u001b[39m json\u001b[38;5;241m.\u001b[39mload(url)\n\u001b[1;32m----> 4\u001b[0m     \u001b[38;5;28mprint\u001b[39m(\u001b[43mdata\u001b[49m\u001b[43m[\u001b[49m\u001b[38;5;124;43m'\u001b[39;49m\u001b[38;5;124;43mgames\u001b[39;49m\u001b[38;5;124;43m'\u001b[39;49m\u001b[43m]\u001b[49m\u001b[43m[\u001b[49m\u001b[38;5;241;43m3\u001b[39;49m\u001b[43m]\u001b[49m)\n\u001b[0;32m      5\u001b[0m     \u001b[38;5;28mprint\u001b[39m(\u001b[38;5;28mtype\u001b[39m(data[\u001b[38;5;124m'\u001b[39m\u001b[38;5;124mgames\u001b[39m\u001b[38;5;124m'\u001b[39m]))\n\u001b[0;32m      6\u001b[0m     \u001b[38;5;28mprint\u001b[39m(\u001b[38;5;28mlen\u001b[39m(data[\u001b[38;5;124m'\u001b[39m\u001b[38;5;124mgames\u001b[39m\u001b[38;5;124m'\u001b[39m]))\n",
      "\u001b[1;31mIndexError\u001b[0m: list index out of range"
     ]
    }
   ],
   "source": [
    "# Within the dictionary at key 'games' we have a list, of varying size\n",
    "with urllib.request.urlopen(test[0]) as url:\n",
    "    data = json.load(url)\n",
    "    print(data['games'][3])\n",
    "    print(type(data['games']))\n",
    "    print(len(data['games']))"
   ]
  },
  {
   "cell_type": "code",
   "execution_count": 21,
   "id": "312e5b57-866b-40f3-8dc6-4c3d78f55eaa",
   "metadata": {},
   "outputs": [
    {
     "name": "stdout",
     "output_type": "stream",
     "text": [
      "<class 'dict'>\n",
      "dict_keys(['url', 'pgn', 'time_control', 'end_time', 'rated', 'tcn', 'uuid', 'initial_setup', 'fen', 'time_class', 'rules', 'white', 'black'])\n"
     ]
    }
   ],
   "source": [
    "# Within the list, we have another dictionary which contains a number of keys, Lets determine what are inside each of these and the types that are contained within.\n",
    "# It is worth noting that the keys inside here can vary, i.e, this may not show all the possible keys. \n",
    "\n",
    "with urllib.request.urlopen(test[0]) as url:\n",
    "    data = json.load(url)\n",
    "    print(type(data['games'][0]))\n",
    "    print(data['games'][0].keys())"
   ]
  },
  {
   "cell_type": "code",
   "execution_count": 22,
   "id": "2332695d-c92a-43ee-831f-fc71c016dd3c",
   "metadata": {},
   "outputs": [
    {
     "ename": "IndexError",
     "evalue": "list index out of range",
     "output_type": "error",
     "traceback": [
      "\u001b[1;31m---------------------------------------------------------------------------\u001b[0m",
      "\u001b[1;31mIndexError\u001b[0m                                Traceback (most recent call last)",
      "Cell \u001b[1;32mIn[22], line 3\u001b[0m\n\u001b[0;32m      1\u001b[0m \u001b[38;5;28;01mwith\u001b[39;00m urllib\u001b[38;5;241m.\u001b[39mrequest\u001b[38;5;241m.\u001b[39murlopen(test[\u001b[38;5;241m0\u001b[39m]) \u001b[38;5;28;01mas\u001b[39;00m url:\n\u001b[0;32m      2\u001b[0m     data \u001b[38;5;241m=\u001b[39m json\u001b[38;5;241m.\u001b[39mload(url)\n\u001b[1;32m----> 3\u001b[0m     \u001b[38;5;28mprint\u001b[39m(\u001b[43mdata\u001b[49m\u001b[43m[\u001b[49m\u001b[38;5;124;43m'\u001b[39;49m\u001b[38;5;124;43mgames\u001b[39;49m\u001b[38;5;124;43m'\u001b[39;49m\u001b[43m]\u001b[49m\u001b[43m[\u001b[49m\u001b[38;5;241;43m5\u001b[39;49m\u001b[43m]\u001b[49m\u001b[38;5;241m.\u001b[39mkeys())\n\u001b[0;32m      4\u001b[0m     \u001b[38;5;28;01mfor\u001b[39;00m element \u001b[38;5;129;01min\u001b[39;00m data[\u001b[38;5;124m'\u001b[39m\u001b[38;5;124mgames\u001b[39m\u001b[38;5;124m'\u001b[39m][\u001b[38;5;241m5\u001b[39m]\u001b[38;5;241m.\u001b[39mkeys():\n\u001b[0;32m      5\u001b[0m         \u001b[38;5;28mprint\u001b[39m(\u001b[38;5;28mtype\u001b[39m(data[\u001b[38;5;124m'\u001b[39m\u001b[38;5;124mgames\u001b[39m\u001b[38;5;124m'\u001b[39m][\u001b[38;5;241m5\u001b[39m][element]))\n",
      "\u001b[1;31mIndexError\u001b[0m: list index out of range"
     ]
    }
   ],
   "source": [
    "with urllib.request.urlopen(test[0]) as url:\n",
    "    data = json.load(url)\n",
    "    print(data['games'][5].keys())\n",
    "    for element in data['games'][5].keys():\n",
    "        print(type(data['games'][5][element]))\n",
    "        print(data['games'][5][element])"
   ]
  },
  {
   "cell_type": "code",
   "execution_count": 23,
   "id": "424ca998-8f84-4a08-955a-62b7259293c2",
   "metadata": {},
   "outputs": [
    {
     "name": "stdout",
     "output_type": "stream",
     "text": [
      "233623\n"
     ]
    }
   ],
   "source": [
    "import threading\n",
    "import urllib.request\n",
    "\n",
    "# contains all the possible endpoints within the players game archives. Each endpoint is a month of games.\n",
    "all_urls = []\n",
    "\n",
    "# take all the endpoint urls for each player and just add them into all_urls and show the total amount of endpoints.\n",
    "for k, v in loaded_archives.items():\n",
    "    for archive in v['archives']:\n",
    "        all_urls.append(archive)\n",
    "print(len(all_urls))"
   ]
  },
  {
   "cell_type": "code",
   "execution_count": 24,
   "id": "32052281-9561-47e0-955f-16f763089ccb",
   "metadata": {},
   "outputs": [
    {
     "name": "stdout",
     "output_type": "stream",
     "text": [
      "4993\n"
     ]
    }
   ],
   "source": [
    "# Create a new dictionary, that just has the players username, and their last registered month of play as a endpoint.\n",
    "loaded_archives_with_last_registered_month = {}\n",
    "\n",
    "for k, v in loaded_archives.items():\n",
    "\n",
    "     # Check if an endpoint exists for a player.\n",
    "    if len(v['archives']) != 0:\n",
    "        loaded_archives_with_last_registered_month[k] = []\n",
    "        loaded_archives_with_last_registered_month[k].append(v['archives'][-1])\n",
    "\n",
    "print(len(loaded_archives_with_last_registered_month.items()))\n"
   ]
  },
  {
   "cell_type": "code",
   "execution_count": 25,
   "id": "8b22350e-ea8f-4531-ab27-7a85a3ff12dd",
   "metadata": {},
   "outputs": [],
   "source": [
    "# This will be a dictionary with player usernames as keys, and values being lists of games.\n",
    "game_archive_raw_data_dict = {}\n",
    "\n",
    "# Iterate over all the url endpoints obtaining the data at said endpoint\n",
    "def collect_game_archive_data(player_archive_dict, game_archive_raw_data_dict):\n",
    "    \n",
    "    # Counter used for retry attempts, max attempts can be modified in the try/except block.\n",
    "    retry = 0\n",
    "\n",
    "    # Counter used for print outs, so we can see what user we are on out of the total users.\n",
    "    counter = -1\n",
    "\n",
    "    # for every key value pair in the input dictionary\n",
    "    for k, v in player_archive_dict.items():\n",
    "        counter += 1\n",
    "        print(f\"number {counter}/{len(player_archive_dict.items()) - 1}\", end=\"\\r\")\n",
    "        \n",
    "        # initialise an entry with the current username/k with an empty list ready for games.\n",
    "        game_archive_raw_data_dict[k] = []\n",
    "\n",
    "        # for every archive in in list, so for every endpoint\n",
    "        for archive in v:\n",
    "\n",
    "            # while loop is used to allow for multiple retry attempts on every endpoint if we get an error.\n",
    "            while (True):\n",
    "                try:\n",
    "                    with urllib.request.urlopen(archive) as url:\n",
    "                        data = json.load(url)\n",
    "                        for game in data['games']:\n",
    "                            game_archive_raw_data_dict[k].append(game)\n",
    "                    break\n",
    "                # handle any ChessDotComError\n",
    "                except ChessDotComError as e:\n",
    "                    print(f'\\rError for {username}: {e}')\n",
    "                    if retry < 15:\n",
    "                        retry += 1\n",
    "                        print(f'\\rRetrying for {username} attempt {retry}...')\n",
    "\n",
    "                    # If we have reached the max retry count, break the while loop.\n",
    "                    else:\n",
    "                        print(f'\\rMax retries reached for {username}. Moving on.')\n",
    "                        retry = 0\n",
    "                        break\n",
    "        \n",
    "          "
   ]
  },
  {
   "cell_type": "code",
   "execution_count": 26,
   "id": "78c3886d-18af-41a1-8f81-f7ac56528f14",
   "metadata": {},
   "outputs": [
    {
     "name": "stdout",
     "output_type": "stream",
     "text": [
      "number 4992/4992\r"
     ]
    }
   ],
   "source": [
    "# Using a dictionary that has a player username as a key, and then a single endpoint, which is the last month of games played\n",
    "# for that user. We then pass an empty dictionary which will have keys as usernames, with a list of lists, with each nested list\n",
    "# being a game that user has played.\n",
    "collect_game_archive_data(loaded_archives_with_last_registered_month, game_archive_raw_data_dict)"
   ]
  },
  {
   "cell_type": "code",
   "execution_count": 27,
   "id": "ecec4346-f8b3-4cbc-b684-e2231c9ed1f6",
   "metadata": {},
   "outputs": [],
   "source": [
    "# Store the game archive raw data dictionary\n",
    "with open('Collected_Chess_Data/fm_cm__game_archive_raw_data_dict.pkl', 'wb') as file:\n",
    "    pickle.dump(game_archive_raw_data_dict, file)"
   ]
  },
  {
   "cell_type": "code",
   "execution_count": 18,
   "id": "414dc7ac-b13f-44e0-bd28-9748e4499cf9",
   "metadata": {},
   "outputs": [],
   "source": [
    "# Load the game archive raw data dictionary\n",
    "with open('Collected_Chess_Data/gm_wgm_game_archive_raw_data_dict.pkl', 'rb') as file:\n",
    "    game_archive_raw_data_dict = pickle.load(file)"
   ]
  },
  {
   "cell_type": "code",
   "execution_count": 19,
   "id": "963e6e92-c05d-4c8d-a4a6-f86d8cd6c845",
   "metadata": {},
   "outputs": [
    {
     "name": "stdout",
     "output_type": "stream",
     "text": [
      "1707\n"
     ]
    }
   ],
   "source": [
    "# Now we have a dictionary with username keys and values being a list of dicts, with the dicts being games. \n",
    "print(len(game_archive_raw_data_dict))"
   ]
  },
  {
   "cell_type": "code",
   "execution_count": 5,
   "id": "239cb981-f383-4956-b046-8830dc2ba297",
   "metadata": {},
   "outputs": [],
   "source": [
    "# Function will return rating at start of month, previous wins, losses and draw in this month.\n",
    "def return_unknown_players_data(username, day, month, year, game_type):\n",
    "\n",
    "    # Try and obtian the usernames monthly archive, if this fails, return -1s.\n",
    "    try:\n",
    "        archive_data = get_player_games_by_month(username, year, month).json['games']\n",
    "    except Exception as e:\n",
    "        return -1, -1, -1, -1\n",
    "        \n",
    "\n",
    "    is_white = False\n",
    "\n",
    "    initial_rating = 0\n",
    "    wins = 0\n",
    "    losses = 0\n",
    "    draws = 0\n",
    "    average_speed = 0\n",
    "    \n",
    "    for game in archive_data:\n",
    "        \n",
    "        current_game_type = game['time_class']\n",
    "        if not (current_game_type == game_type):\n",
    "            continue\n",
    "        \n",
    "        # Obtain the usernames for the white and black players\n",
    "        white = game['white']['username']\n",
    "        black = game['black']['username']\n",
    "\n",
    "        # If the username of the player passed to function is playing white currently, is_white == true, else set it false.\n",
    "        if white == username:\n",
    "            is_white = True\n",
    "        else:\n",
    "            is_white = False\n",
    "        \n",
    "        # we need to return the users initial rating at the start of the month, if 0, it hasnt been set yet so we are in the first game.\n",
    "        if initial_rating == 0:\n",
    "            if is_white: # use the white elo as the player is white\n",
    "                initial_rating = game['white']['rating']\n",
    "            else: # player is black\n",
    "                initial_rating = game['black']['rating']\n",
    "\n",
    "        # Game was resigned before any moves where made we skip this game.\n",
    "        if 'pgn' not in game.keys():\n",
    "            continue\n",
    "            \n",
    "        # get the games PGN notation\n",
    "        game_pgn = game['pgn']\n",
    "\n",
    "        # convert the day in PGN to an integer so we can use it for comparison with \"day\"\n",
    "        current_day = int(game_pgn[game_pgn.find(\"[Date\"):].split(\"]\")[0].replace('\"', \"\").split(\" \")[1].split(\".\")[2])\n",
    "        \n",
    "        # If the day of the game is before the \"day\" given as input to the function\n",
    "        if current_day < day:\n",
    "\n",
    "            # Store the score of the current game, which is a string with 1-0, 0-1, or 1/2-1/2.\n",
    "            score = game_pgn[game_pgn.find(\"[Result\"):].split(\"]\")[0].replace('\"', \"\").split(\" \")[1]\n",
    "            \n",
    "            # increment draws\n",
    "            if score == \"1/2-1/2\":\n",
    "                draws += 1\n",
    "\n",
    "            # if player is white and the score is 1-0, increment wins.\n",
    "            elif is_white and score == \"1-0\":\n",
    "                wins += 1\n",
    "\n",
    "            # if player is white and the score is 0-1, increment losses.\n",
    "            elif is_white and score == \"0-1\":\n",
    "                losses += 1\n",
    "\n",
    "            # if player is black and score is 0-1, increment wins.\n",
    "            elif not is_white and score == \"0-1\":\n",
    "                wins += 1\n",
    "\n",
    "            # if player is black and score is 1-0, increment losses.\n",
    "            elif not is_white and score == \"1-0\":\n",
    "                losses += 1\n",
    "\n",
    "        # else we break from the loop as we do not need any games after or on the \"day\" passed\n",
    "        else:\n",
    "            break\n",
    "\n",
    "    return initial_rating, wins, losses, draws\n",
    "        "
   ]
  },
  {
   "cell_type": "code",
   "execution_count": 6,
   "id": "78cda7cd-9172-49eb-ad15-b94c33b65a91",
   "metadata": {},
   "outputs": [],
   "source": [
    "# Determine what we need from this data.\n",
    "# We can go through every single game and get the following data.\n",
    "\n",
    "# I have a dictionary with player usernames, and a list of lists of games.\n",
    "# from all these games, lets create some added features.\n",
    "\n",
    "# white rating at start of a month\n",
    "# white current game rating\n",
    "# white wins from previous games in that month\n",
    "# white losses from previous games in that month\n",
    "# white draws from previous games in that month\n",
    "\n",
    "# black rating at start of a month\n",
    "# black current game rating\n",
    "# black wins from previous games in that month\n",
    "# black losses from previous games in that month\n",
    "# player 2 draws from previous games in that month\n",
    "\n",
    "# win/loss/draw\n",
    "\n",
    "\n",
    "# Go through each username key in the game_archive_raw_data_dict, and over each of the lists of games\n",
    "# from this list, get "
   ]
  },
  {
   "cell_type": "code",
   "execution_count": 7,
   "id": "59acf766-4ea9-4a5e-9230-ba2e3dec824f",
   "metadata": {},
   "outputs": [],
   "source": [
    "\n",
    "# for every pair of items in game_archive_raw_data_dict\n",
    "def return_list_of_games_played(game_archive_raw_data_dict, game_type):\n",
    "    complete_list = [] # Store all the inner lists and return it laster\n",
    "\n",
    "    # The inner list will be a row of data, with a label at the end, this list will then be appended\n",
    "    # into the complete list.\n",
    "    \n",
    "    # white rating at start of a month\n",
    "    # black rating at start of a month\n",
    "    # white current game rating\n",
    "    # black current game rating\n",
    "    # white wins from previous games in that month\n",
    "    # black wins from previous games in that month\n",
    "    # white losses from previous games in that month\n",
    "    # white draws from previous games in that month\n",
    "    # black losses from previous games in that month\n",
    "    # black draws from previous games in that month\n",
    "    inner_list = [] \n",
    "\n",
    "    white_list = [] # store all required white values\n",
    "    black_list = [] # store all required black values\n",
    "    \n",
    "\n",
    "    # This is used to determine whether the username we are checking is playing either black or white. This allows us to set the correct\n",
    "    # initial monthly rating for that user among keeping track of their personal wins, losses and draws.\n",
    "    is_white = False \n",
    "\n",
    "    # Used to monitor progression through the input dictionary of keys, which are usernames.\n",
    "    counter = 0\n",
    "    finish = len(game_archive_raw_data_dict.keys())\n",
    "\n",
    "    # For every key,value pair within the game_archive_raw_data_dict.\n",
    "    for k, v in game_archive_raw_data_dict.items():\n",
    "        counter += 1\n",
    "        print(f\"Completed {counter}/{finish}\", end=\"\\r\")\n",
    "        \n",
    "        # This is the current users name.\n",
    "        current_username = k\n",
    "        \n",
    "        # We are going to iterate over games from different username players. If its their first game we have checked, we use this to store\n",
    "        # their initial rating. We are iterating over the users games in their last month of play.\n",
    "        initial_rating = 0\n",
    "\n",
    "        # when we change key, we reset the current wins, losses and draws. These are used to keep track of the current usernames statistics.\n",
    "        current_wins = 0\n",
    "        current_losses = 0\n",
    "        current_draws = 0\n",
    "\n",
    "        for game in v:\n",
    "\n",
    "            current_game_type = game['time_class']\n",
    "            if not (current_game_type == game_type):\n",
    "                continue\n",
    "\n",
    "            if game_type == 'blitz':\n",
    "                game_type_id = 0\n",
    "            elif game_type == 'rapid':\n",
    "                game_type_id = 1\n",
    "            elif game_type == 'bullet':\n",
    "                game_type_id = 2\n",
    "            \n",
    "            # Obtain the usernames for the white and black players\n",
    "            white = game['white']['username']\n",
    "            black = game['black']['username']\n",
    "\n",
    "            # if the user is currently playing white, set is_white to true, else set to false.\n",
    "            if white == current_username:\n",
    "                is_white = True\n",
    "            else:\n",
    "                is_white = False\n",
    "\n",
    "            # Grab the players current elos in the game, both white and black.\n",
    "            current_white_elo = game['white']['rating']\n",
    "            current_black_elo = game['black']['rating']\n",
    "\n",
    "            # If we are on the first game in the value, this is the users initial rating that month\n",
    "            # This if statement will only be hit on the first iteration of this loop.\n",
    "            if initial_rating == 0:\n",
    "                if is_white: # use the white elo as the player is white\n",
    "                    initial_rating = current_white_elo\n",
    "                else: # player is black so use the black elo\n",
    "                    initial_rating = current_black_elo\n",
    "\n",
    "            # if pgn key does not exist in game.keys() then the Game was resigned before any moves where made, therefore, we skip this game.\n",
    "            if 'pgn' not in game.keys():\n",
    "                continue\n",
    "                \n",
    "            # Get the game PGN notation and store in game_pgn.    \n",
    "            game_pgn = game['pgn']\n",
    "\n",
    "            # Get the current date of the game in a list format -> eg. ['2023', '08', '22']\n",
    "            date_list = game_pgn[game_pgn.find(\"[UTCDate\"):].split(\"]\")[0].replace('\"', \"\").split(\" \")[1].split(\".\")\n",
    "            year = int(date_list[0])\n",
    "            month = int(date_list[1])\n",
    "            day = int(date_list[2])\n",
    "\n",
    "            # store the score of the current game, 1-0, 0-1, or 1/2-1/2\n",
    "            score = game_pgn[game_pgn.find(\"[Result\"):].split(\"]\")[0].replace('\"', \"\").split(\" \")[1]\n",
    "\n",
    "            # Now we get the unknown players data using the function return_unknown_players_data() which will return initial rating, wins, losses and draws from the start of that month to the current game\n",
    "            # The unknown player could be either black or white so we need to ensure we pass the correct username.\n",
    "            if is_white:\n",
    "                i_rating, wins, losses, draws = return_unknown_players_data(black, day, month, year, game_type)\n",
    "\n",
    "                # we fill the black_list with the unknown players data as the current player is white.\n",
    "                black_list = [i_rating, current_black_elo, wins, losses, draws]\n",
    "\n",
    "                # we fill the white list with the current players details as they are playing white.\n",
    "                white_list = [initial_rating, current_white_elo, current_wins, current_losses, current_draws]\n",
    "            \n",
    "            else:\n",
    "                i_rating, wins, losses, draws = return_unknown_players_data(white, day, month, year, game_type)\n",
    "\n",
    "                # we fill the white_list with the unknown players data as the current player is black.\n",
    "                white_list = [i_rating, current_white_elo, wins, losses, draws]\n",
    "\n",
    "                # we fill the black list with the current players details as they are playing black.\n",
    "                black_list = [initial_rating, current_black_elo, current_wins, current_losses, current_draws]\n",
    "\n",
    "            # If there is a -1 in any of the lists, data collection for that user has failed.\n",
    "            if (-1 in white_list) or (-1 in black_list):\n",
    "                continue\n",
    "            \n",
    "            # we add the the two lists together, essentially appending black_list to the end of white_list and storing this value in inner_list.\n",
    "            inner_list = white_list + black_list\n",
    "            inner_list.append(game_type_id)\n",
    "            \n",
    "            # Labels for win, loss and draws that need to be appended to the end of each inner list.\n",
    "            draw_label = 0\n",
    "            player_one_win_label = 1\n",
    "            player_two_win_label = 2\n",
    "            \n",
    "            # increment draws\n",
    "            if score == \"1/2-1/2\":\n",
    "                current_draws += 1\n",
    "                inner_list.append(draw_label) # draw, append draw_label\n",
    "\n",
    "            # if player is white and the score is 1-0, increment wins.\n",
    "            elif is_white and score == \"1-0\":\n",
    "                current_wins += 1\n",
    "                inner_list.append(player_one_win_label) # white won so append win_label\n",
    "\n",
    "            # if player is white and the score is 0-1, increment losses.\n",
    "            elif is_white and score == \"0-1\":\n",
    "                current_losses += 1\n",
    "                inner_list.append(player_two_win_label) # white lost, append loss_label\n",
    "        \n",
    "            # if player is black and score is 0-1, increment wins.\n",
    "            elif not is_white and score == \"0-1\":\n",
    "                current_wins += 1\n",
    "                inner_list.append(player_two_win_label) # white lost, append loss_label\n",
    "\n",
    "            # if player is black and score is 1-0, increment losses.\n",
    "            elif not is_white and score == \"1-0\":\n",
    "                current_losses += 1\n",
    "                inner_list.append(player_one_win_label) # white won so append win_label\n",
    "    \n",
    "            complete_list.append(inner_list)\n",
    "    return complete_list # return the complete list"
   ]
  },
  {
   "cell_type": "code",
   "execution_count": 8,
   "id": "28f27fdb-9349-4d11-b647-c7b4c6d0d4f3",
   "metadata": {},
   "outputs": [
    {
     "name": "stdout",
     "output_type": "stream",
     "text": [
      "Completed 4993/4993\r"
     ]
    }
   ],
   "source": [
    "gm_wgm_feature_set = return_list_of_games_played(game_archive_raw_data_dict, 'bullet')"
   ]
  },
  {
   "cell_type": "code",
   "execution_count": 9,
   "id": "92c95386-5e84-451c-b765-f4fd6b5a3e6e",
   "metadata": {},
   "outputs": [
    {
     "name": "stdout",
     "output_type": "stream",
     "text": [
      "135423\n"
     ]
    }
   ],
   "source": [
    "print(len(gm_wgm_feature_set))"
   ]
  },
  {
   "cell_type": "code",
   "execution_count": 10,
   "id": "12632686-559a-43a3-9f37-1462d0c89a97",
   "metadata": {},
   "outputs": [],
   "source": [
    "with open('Collected_Chess_Data/fm_cm_feature_set_bullet.pkl', 'wb') as file:\n",
    "    pickle.dump(gm_wgm_feature_set, file)"
   ]
  },
  {
   "cell_type": "code",
   "execution_count": 11,
   "id": "59205056-7fc7-42d8-b107-c559b812d834",
   "metadata": {},
   "outputs": [],
   "source": [
    "# Load the game archive raw data dictionary\n",
    "with open('Collected_Chess_Data/fm_cm_feature_set_bullet.pkl', 'rb') as file:\n",
    "    gm_wgm_blitz_feature_set_test = pickle.load(file)"
   ]
  },
  {
   "cell_type": "code",
   "execution_count": 12,
   "id": "dfd58a22-2b06-4acc-8d0d-60c05637f56e",
   "metadata": {},
   "outputs": [
    {
     "name": "stdout",
     "output_type": "stream",
     "text": [
      "135423\n"
     ]
    }
   ],
   "source": [
    "print(len(gm_wgm_blitz_feature_set_test))"
   ]
  },
  {
   "cell_type": "code",
   "execution_count": 64,
   "id": "0a4f101f-7e7a-415e-b9e8-0f647be42019",
   "metadata": {},
   "outputs": [
    {
     "name": "stdout",
     "output_type": "stream",
     "text": [
      "[[2754, 2735, 12, 5, 0, 2493, 2551, 3, 2, 2, 2], [2493, 2563, 4, 2, 2, 2701, 2757, 100, 117, 33, 1], [2887, 2888, 667, 285, 61, 2493, 2561, 5, 2, 2, 1], [2658, 2732, 16, 16, 2, 2493, 2573, 5, 3, 2, 2], [2493, 2586, 6, 3, 2, 2727, 2815, 74, 52, 9, 1], [2845, 2823, 0, 0, 0, 2812, 2812, 0, 0, 0, 2], [2812, 2820, 0, 0, 0, 2812, 2815, 1, 0, 0, 1], [2845, 2823, 0, 0, 0, 2812, 2812, 1, 1, 0, 1], [2812, 2816, 0, 0, 0, 2812, 2635, 1, 2, 0, 1], [2710, 2704, 0, 0, 0, 2812, 2822, 1, 3, 0, 2], [2812, 2811, 0, 0, 0, 2812, 2715, 2, 3, 0, 2], [2812, 2803, 0, 0, 0, 2812, 2831, 3, 3, 0, 2], [2917, 2902, 6, 2, 2, 2812, 2813, 4, 3, 0, 2], [2812, 2807, 4, 3, 0, 2812, 2908, 5, 3, 0, 2], [2917, 2898, 6, 2, 2, 2812, 2817, 6, 3, 0, 2], [2812, 2811, 4, 3, 0, 2812, 2904, 7, 3, 0, 2], [2917, 2894, 6, 2, 2, 2812, 2821, 8, 3, 0, 2]]\n"
     ]
    }
   ],
   "source": [
    "print(gm_wgm_feature_set_test[15:32])"
   ]
  },
  {
   "cell_type": "code",
   "execution_count": 65,
   "id": "10bc4616-351e-46cf-8ecc-ab39eb2148bd",
   "metadata": {},
   "outputs": [
    {
     "name": "stdout",
     "output_type": "stream",
     "text": [
      "[10502, 10505, 18488, 32220, 37434, 37436, 46520, 47048, 50392, 56506, 64694, 64697, 64701, 64702, 64704, 64705, 69370, 69669, 69678, 69684, 69687, 69690, 69693, 69700, 69703, 69706, 69710, 69714, 69717, 69718, 69721, 69725, 69731, 69754, 69755, 69760, 69769, 69770, 69793, 69796, 69797, 69799, 69801, 69810, 69811, 69812, 69814, 69815, 69816, 69819, 69820, 69821, 69822, 69826, 69829, 71524, 72084, 73729, 73731, 73733, 73735, 73738, 73740, 73742, 73744, 73746, 73748, 73751, 73753, 73755, 73757, 73759, 73760, 73762, 73764, 73766, 73767, 73769, 73771, 73773, 73775, 73777, 73779, 73781, 73783, 73785, 73787, 74775]\n"
     ]
    }
   ],
   "source": [
    "list = []\n",
    "counter = 0\n",
    "for row in gm_wgm_feature_set_test:\n",
    "    if row[0] < 1:\n",
    "        list.append(counter)\n",
    "    \n",
    "    if row[5] < 1:\n",
    "        list.append(counter)\n",
    "\n",
    "    counter += 1\n",
    "\n",
    "print(list)"
   ]
  },
  {
   "cell_type": "code",
   "execution_count": null,
   "id": "d0176d95-f545-4c08-972a-f016d3e7da92",
   "metadata": {},
   "outputs": [],
   "source": []
  }
 ],
 "metadata": {
  "kernelspec": {
   "display_name": "Python 3 (ipykernel)",
   "language": "python",
   "name": "python3"
  },
  "language_info": {
   "codemirror_mode": {
    "name": "ipython",
    "version": 3
   },
   "file_extension": ".py",
   "mimetype": "text/x-python",
   "name": "python",
   "nbconvert_exporter": "python",
   "pygments_lexer": "ipython3",
   "version": "3.10.0"
  }
 },
 "nbformat": 4,
 "nbformat_minor": 5
}
