{
 "cells": [
  {
   "cell_type": "code",
   "execution_count": 1,
   "id": "0471406a-0e45-476e-a544-081e27de32d9",
   "metadata": {},
   "outputs": [],
   "source": [
    "## Imports\n",
    "from chessdotcom import *\n",
    "import pprint\n",
    "import requests\n",
    "\n",
    "import urllib.request\n",
    "import json\n",
    "\n",
    "import numpy as np\n",
    "import pandas as pd\n",
    "import pickle"
   ]
  },
  {
   "cell_type": "code",
   "execution_count": 2,
   "id": "2b7e0b44-d678-4cdf-83b4-a8bd669b5712",
   "metadata": {},
   "outputs": [],
   "source": [
    "## Configure Headers, as the Project uses requests package to interact with the API. Headers and paxis can be set\n",
    "## through the Client Object.\n",
    "from chessdotcom import Client\n",
    "\n",
    "Client.request_config[\"headers\"][\"User-Agent\"] = (\n",
    " \"Machine learning for chess match outcome Prediction, BSc in Computer Science Dissertation, University of Lincoln\"\n",
    " \"Contact me at conorjackvincent@live.co.uk\"\n",
    ")\n",
    "\n",
    "# Implement rate limiting to be applied to any method used within the chessdotcom library.\n",
    "Client.rate_limit_handler.tries = 2\n",
    "Client.rate_limit_handler.tts = 4"
   ]
  },
  {
   "cell_type": "code",
   "execution_count": 3,
   "id": "7436b938-452f-4b9f-b746-86b99757b713",
   "metadata": {},
   "outputs": [],
   "source": [
    "player_names = [\"dolphin\", \"grimsby\"]"
   ]
  },
  {
   "cell_type": "code",
   "execution_count": 16,
   "id": "780800f9-de5b-4279-982f-c96aafc2d82e",
   "metadata": {},
   "outputs": [],
   "source": [
    "player_profiles = []\n",
    "for player_name in player_names:\n",
    "    player_profiles.append(get_player_profile(player_name).json[\"player\"])"
   ]
  },
  {
   "cell_type": "code",
   "execution_count": 27,
   "id": "40ffff7d-6381-4495-bf92-fda8e1863c58",
   "metadata": {},
   "outputs": [
    {
     "name": "stdout",
     "output_type": "stream",
     "text": [
      "{'avatar': 'https://images.chesscomfiles.com/uploads/v1/user/6868643.438e999d.200x200o.43d68796fe69.jpeg', 'player_id': 6868643, '@id': 'https://api.chess.com/pub/player/dolphin', 'url': 'https://www.chess.com/member/Dolphin', 'name': 'Nata&scaron;a Andrejev', 'username': 'dolphin', 'followers': 0, 'country': 'https://api.chess.com/pub/country/RS', 'location': 'NOVI SAD', 'last_online': 1437681098, 'joined': 1330945960, 'status': 'basic', 'is_streamer': False, 'verified': False, 'streaming_platforms': []}\n",
      "15\n",
      "dict_keys(['avatar', 'player_id', '@id', 'url', 'name', 'username', 'followers', 'country', 'location', 'last_online', 'joined', 'status', 'is_streamer', 'verified', 'streaming_platforms'])\n"
     ]
    }
   ],
   "source": [
    "print(player_profiles[0])\n",
    "print(len(player_profiles[0]))\n",
    "print(player_profiles[0].keys())"
   ]
  },
  {
   "cell_type": "code",
   "execution_count": 26,
   "id": "96057548-8c98-474f-828a-34e9d28bbb17",
   "metadata": {},
   "outputs": [
    {
     "name": "stdout",
     "output_type": "stream",
     "text": [
      "{'player_id': 2000116, '@id': 'https://api.chess.com/pub/player/grimsby', 'url': 'https://www.chess.com/member/grimsby', 'name': 'Philip Baker', 'username': 'grimsby', 'followers': 0, 'country': 'https://api.chess.com/pub/country/GB', 'location': 'Stockport', 'last_online': 1660550872, 'joined': 1246191550, 'status': 'basic', 'is_streamer': False, 'verified': False, 'streaming_platforms': []}\n",
      "14\n",
      "dict_keys(['player_id', '@id', 'url', 'name', 'username', 'followers', 'country', 'location', 'last_online', 'joined', 'status', 'is_streamer', 'verified', 'streaming_platforms'])\n"
     ]
    }
   ],
   "source": [
    "print(player_profiles[1])\n",
    "print(len(player_profiles[1]))\n",
    "print(player_profiles[1].keys())"
   ]
  },
  {
   "cell_type": "code",
   "execution_count": null,
   "id": "fbd6abd9-f477-49b6-b009-7dff9226e77a",
   "metadata": {},
   "outputs": [],
   "source": []
  },
  {
   "cell_type": "code",
   "execution_count": null,
   "id": "d2397fd6-7716-4f6d-ad4c-c3df118e5f01",
   "metadata": {},
   "outputs": [],
   "source": []
  },
  {
   "cell_type": "code",
   "execution_count": 28,
   "id": "1b05e3da-64e2-4711-9c85-b370b96b5ada",
   "metadata": {},
   "outputs": [],
   "source": [
    "player_profiles_statistics = []\n",
    "\n",
    "for username in player_names:\n",
    "    player_profiles_statistics.append(get_player_stats(username).json)\n",
    "    \n"
   ]
  },
  {
   "cell_type": "code",
   "execution_count": 33,
   "id": "4cc30129-ea19-4848-9dba-945cb9882353",
   "metadata": {},
   "outputs": [
    {
     "name": "stdout",
     "output_type": "stream",
     "text": [
      "{'stats': {'chess_rapid': {'last': {'rating': 1566, 'date': 1437682685, 'rd': 173}, 'best': {'rating': 1566, 'date': 1437682685, 'game': 'https://www.chess.com/game/live/298697089'}, 'record': {'win': 485, 'loss': 523, 'draw': 51}}, 'chess_blitz': {'last': {'rating': 1094, 'date': 1336443352, 'rd': 45}, 'best': {'rating': 1200, 'date': 1330934400, 'game': 'https://www.chess.com/game/live/276213113'}, 'record': {'win': 28, 'loss': 38, 'draw': 6}}, 'tactics': {'highest': {'rating': 1254, 'date': 1333884232}, 'lowest': {'rating': 968, 'date': 1334007443}}, 'puzzle_rush': {}}}\n",
      "dict_keys(['chess_rapid', 'chess_blitz', 'tactics', 'puzzle_rush'])\n"
     ]
    }
   ],
   "source": [
    "print(player_profiles_statistics[0])\n",
    "print(player_profiles_statistics[0][\"stats\"].keys())"
   ]
  },
  {
   "cell_type": "code",
   "execution_count": 34,
   "id": "63a607f7-6f71-4f62-bb6c-445031278ce7",
   "metadata": {},
   "outputs": [
    {
     "name": "stdout",
     "output_type": "stream",
     "text": [
      "{'stats': {'tactics': {'highest': {'rating': 1367, 'date': 1660551287}, 'lowest': {'rating': 1177, 'date': 1643101948}}, 'puzzle_rush': {}}}\n",
      "dict_keys(['tactics', 'puzzle_rush'])\n"
     ]
    }
   ],
   "source": [
    "print(player_profiles_statistics[1])\n",
    "print(player_profiles_statistics[1][\"stats\"].keys())"
   ]
  },
  {
   "cell_type": "code",
   "execution_count": null,
   "id": "c357cead-e1c8-4e7d-9272-a5067e00235f",
   "metadata": {},
   "outputs": [],
   "source": []
  }
 ],
 "metadata": {
  "kernelspec": {
   "display_name": "Python 3 (ipykernel)",
   "language": "python",
   "name": "python3"
  },
  "language_info": {
   "codemirror_mode": {
    "name": "ipython",
    "version": 3
   },
   "file_extension": ".py",
   "mimetype": "text/x-python",
   "name": "python",
   "nbconvert_exporter": "python",
   "pygments_lexer": "ipython3",
   "version": "3.10.0"
  }
 },
 "nbformat": 4,
 "nbformat_minor": 5
}
