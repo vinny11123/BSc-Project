{
 "cells": [
  {
   "cell_type": "code",
   "execution_count": 1,
   "id": "7ce52835-4e89-4d05-bbae-82b6849a399c",
   "metadata": {},
   "outputs": [],
   "source": [
    "## Imports\n",
    "from chessdotcom import *\n",
    "from preprocess import *\n",
    "\n",
    "import numpy as np\n",
    "import pandas as pd\n",
    "import pickle"
   ]
  },
  {
   "cell_type": "code",
   "execution_count": 2,
   "id": "0ab21aed-9f91-4297-aef7-9ec6d43897fc",
   "metadata": {},
   "outputs": [],
   "source": [
    "## Configure Headers, as the Project uses requests package to interact with the API. Headers and paxis can be set\n",
    "## through the Client Object.\n",
    "from chessdotcom import Client\n",
    "\n",
    "Client.request_config[\"headers\"][\"User-Agent\"] = (\n",
    " \"Machine learning for chess match outcome Prediction, BSc in Computer Science Dissertation, University of Lincoln\"\n",
    " \"Contact me at conorjackvincent@live.co.uk\"\n",
    ")\n",
    "\n",
    "# Implement rate limiting to be applied to any method used within the chessdotcom library.\n",
    "Client.rate_limit_handler.tries = 2\n",
    "Client.rate_limit_handler.tts = 4"
   ]
  },
  {
   "cell_type": "code",
   "execution_count": 3,
   "id": "2c55eb8a-f83e-4f24-8b3a-2d6a45e1a880",
   "metadata": {},
   "outputs": [],
   "source": [
    "im_list = titled_player_names(\"IM\")\n",
    "wim_list = titled_player_names(\"WIM\")"
   ]
  },
  {
   "cell_type": "code",
   "execution_count": 4,
   "id": "ad2642c9-44ee-4088-9af5-f78c990947d4",
   "metadata": {},
   "outputs": [
    {
     "name": "stdout",
     "output_type": "stream",
     "text": [
      "Number of IMs: 2156, Number of WIMs: 381\n"
     ]
    }
   ],
   "source": [
    "print(f\"Number of IMs: {len(im_list)}, Number of WIMs: {len(wim_list)}\")"
   ]
  },
  {
   "cell_type": "code",
   "execution_count": 5,
   "id": "df377feb-4055-47e2-ad16-4147f1c80d06",
   "metadata": {},
   "outputs": [],
   "source": [
    "# Gather two lists, one of all IM player profiles and another with failed IM usernames.\n",
    "list1, list1_failed = build_df_player_profiles(im_list)"
   ]
  },
  {
   "cell_type": "code",
   "execution_count": 6,
   "id": "77b1cafa-3992-4093-ac4a-2ea40fe93bef",
   "metadata": {},
   "outputs": [
    {
     "name": "stdout",
     "output_type": "stream",
     "text": [
      "Error for kylnmd: <class 'chessdotcom.types.ChessDotComError'>(status_code=404, text={\"code\":0,\"message\":\"An internal error has occurred. Please contact Chess.com Developer's Forum for further help https://www.chess.com/club/chess-com-developer-community .\"})\n",
      "Retrying for kylnmd attempt 1...\n",
      "Error for kylnmd: <class 'chessdotcom.types.ChessDotComError'>(status_code=404, text={\"code\":0,\"message\":\"An internal error has occurred. Please contact Chess.com Developer's Forum for further help https://www.chess.com/club/chess-com-developer-community .\"})\n",
      "Retrying for kylnmd attempt 2...\n",
      "Error for kylnmd: <class 'chessdotcom.types.ChessDotComError'>(status_code=404, text={\"code\":0,\"message\":\"An internal error has occurred. Please contact Chess.com Developer's Forum for further help https://www.chess.com/club/chess-com-developer-community .\"})\n",
      "Retrying for kylnmd attempt 3...\n",
      "Error for kylnmd: <class 'chessdotcom.types.ChessDotComError'>(status_code=404, text={\"code\":0,\"message\":\"An internal error has occurred. Please contact Chess.com Developer's Forum for further help https://www.chess.com/club/chess-com-developer-community .\"})\n",
      "Retrying for kylnmd attempt 4...\n",
      "Error for kylnmd: <class 'chessdotcom.types.ChessDotComError'>(status_code=404, text={\"code\":0,\"message\":\"An internal error has occurred. Please contact Chess.com Developer's Forum for further help https://www.chess.com/club/chess-com-developer-community .\"})\n",
      "Retrying for kylnmd attempt 5...\n",
      "Error for kylnmd: <class 'chessdotcom.types.ChessDotComError'>(status_code=404, text={\"code\":0,\"message\":\"An internal error has occurred. Please contact Chess.com Developer's Forum for further help https://www.chess.com/club/chess-com-developer-community .\"})\n",
      "Retrying for kylnmd attempt 6...\n",
      "Error for kylnmd: <class 'chessdotcom.types.ChessDotComError'>(status_code=404, text={\"code\":0,\"message\":\"An internal error has occurred. Please contact Chess.com Developer's Forum for further help https://www.chess.com/club/chess-com-developer-community .\"})\n",
      "Retrying for kylnmd attempt 7...\n",
      "Error for kylnmd: <class 'chessdotcom.types.ChessDotComError'>(status_code=404, text={\"code\":0,\"message\":\"An internal error has occurred. Please contact Chess.com Developer's Forum for further help https://www.chess.com/club/chess-com-developer-community .\"})\n",
      "Retrying for kylnmd attempt 8...\n",
      "Error for kylnmd: <class 'chessdotcom.types.ChessDotComError'>(status_code=404, text={\"code\":0,\"message\":\"An internal error has occurred. Please contact Chess.com Developer's Forum for further help https://www.chess.com/club/chess-com-developer-community .\"})\n",
      "Retrying for kylnmd attempt 9...\n",
      "Error for kylnmd: <class 'chessdotcom.types.ChessDotComError'>(status_code=404, text={\"code\":0,\"message\":\"An internal error has occurred. Please contact Chess.com Developer's Forum for further help https://www.chess.com/club/chess-com-developer-community .\"})\n",
      "Retrying for kylnmd attempt 10...\n",
      "Error for kylnmd: <class 'chessdotcom.types.ChessDotComError'>(status_code=404, text={\"code\":0,\"message\":\"An internal error has occurred. Please contact Chess.com Developer's Forum for further help https://www.chess.com/club/chess-com-developer-community .\"})\n",
      "Retrying for kylnmd attempt 11...\n",
      "Error for kylnmd: <class 'chessdotcom.types.ChessDotComError'>(status_code=404, text={\"code\":0,\"message\":\"An internal error has occurred. Please contact Chess.com Developer's Forum for further help https://www.chess.com/club/chess-com-developer-community .\"})\n",
      "Retrying for kylnmd attempt 12...\n",
      "Error for kylnmd: <class 'chessdotcom.types.ChessDotComError'>(status_code=404, text={\"code\":0,\"message\":\"An internal error has occurred. Please contact Chess.com Developer's Forum for further help https://www.chess.com/club/chess-com-developer-community .\"})\n",
      "Retrying for kylnmd attempt 13...\n",
      "Error for kylnmd: <class 'chessdotcom.types.ChessDotComError'>(status_code=404, text={\"code\":0,\"message\":\"An internal error has occurred. Please contact Chess.com Developer's Forum for further help https://www.chess.com/club/chess-com-developer-community .\"})\n",
      "Retrying for kylnmd attempt 14...\n",
      "Error for kylnmd: <class 'chessdotcom.types.ChessDotComError'>(status_code=404, text={\"code\":0,\"message\":\"An internal error has occurred. Please contact Chess.com Developer's Forum for further help https://www.chess.com/club/chess-com-developer-community .\"})\n",
      "Retrying for kylnmd attempt 15...\n",
      "Error for kylnmd: <class 'chessdotcom.types.ChessDotComError'>(status_code=404, text={\"code\":0,\"message\":\"An internal error has occurred. Please contact Chess.com Developer's Forum for further help https://www.chess.com/club/chess-com-developer-community .\"})\n",
      "Max retries reached for kylnmd. Moving on.\n"
     ]
    }
   ],
   "source": [
    "# Gather two lists, one of all WIM player profiles and another with failed WIM usernames.\n",
    "list2, list2_failed = build_df_player_profiles(wim_list)"
   ]
  },
  {
   "cell_type": "code",
   "execution_count": 9,
   "id": "3e01825f-fc1e-4e59-8061-a65339210352",
   "metadata": {},
   "outputs": [
    {
     "data": {
      "text/html": [
       "<div>\n",
       "<style scoped>\n",
       "    .dataframe tbody tr th:only-of-type {\n",
       "        vertical-align: middle;\n",
       "    }\n",
       "\n",
       "    .dataframe tbody tr th {\n",
       "        vertical-align: top;\n",
       "    }\n",
       "\n",
       "    .dataframe thead th {\n",
       "        text-align: right;\n",
       "    }\n",
       "</style>\n",
       "<table border=\"1\" class=\"dataframe\">\n",
       "  <thead>\n",
       "    <tr style=\"text-align: right;\">\n",
       "      <th></th>\n",
       "      <th>name</th>\n",
       "      <th>username</th>\n",
       "      <th>title</th>\n",
       "      <th>followers</th>\n",
       "      <th>country_code</th>\n",
       "      <th>country</th>\n",
       "      <th>status</th>\n",
       "      <th>is_streamer</th>\n",
       "      <th>verified</th>\n",
       "      <th>league</th>\n",
       "    </tr>\n",
       "  </thead>\n",
       "  <tbody>\n",
       "    <tr>\n",
       "      <th>619</th>\n",
       "      <td>Bence Szabó</td>\n",
       "      <td>fitnessben</td>\n",
       "      <td>IM</td>\n",
       "      <td>284</td>\n",
       "      <td>HU</td>\n",
       "      <td>Hungary</td>\n",
       "      <td>premium</td>\n",
       "      <td>False</td>\n",
       "      <td>False</td>\n",
       "      <td>Silver</td>\n",
       "    </tr>\n",
       "    <tr>\n",
       "      <th>1975</th>\n",
       "      <td>Sabir Umarov</td>\n",
       "      <td>umarovsabir</td>\n",
       "      <td>IM</td>\n",
       "      <td>4</td>\n",
       "      <td>UZ</td>\n",
       "      <td>Uzbekistan</td>\n",
       "      <td>premium</td>\n",
       "      <td>False</td>\n",
       "      <td>False</td>\n",
       "      <td>Bronze</td>\n",
       "    </tr>\n",
       "    <tr>\n",
       "      <th>1008</th>\n",
       "      <td>Alexander Kopylov</td>\n",
       "      <td>kopylov_alex</td>\n",
       "      <td>IM</td>\n",
       "      <td>38</td>\n",
       "      <td>RU</td>\n",
       "      <td>Russia</td>\n",
       "      <td>premium</td>\n",
       "      <td>False</td>\n",
       "      <td>False</td>\n",
       "      <td>Legend</td>\n",
       "    </tr>\n",
       "    <tr>\n",
       "      <th>1188</th>\n",
       "      <td>Marcus Harvey</td>\n",
       "      <td>marcus_harvey</td>\n",
       "      <td>IM</td>\n",
       "      <td>724</td>\n",
       "      <td>GB</td>\n",
       "      <td>United Kingdom</td>\n",
       "      <td>premium</td>\n",
       "      <td>False</td>\n",
       "      <td>False</td>\n",
       "      <td>Legend</td>\n",
       "    </tr>\n",
       "    <tr>\n",
       "      <th>304</th>\n",
       "      <td>saina salonika</td>\n",
       "      <td>sainasalonika</td>\n",
       "      <td>WIM</td>\n",
       "      <td>54</td>\n",
       "      <td>IN</td>\n",
       "      <td>India</td>\n",
       "      <td>premium</td>\n",
       "      <td>False</td>\n",
       "      <td>False</td>\n",
       "      <td>Crystal</td>\n",
       "    </tr>\n",
       "    <tr>\n",
       "      <th>1605</th>\n",
       "      <td>Richard Wang</td>\n",
       "      <td>richardcwang</td>\n",
       "      <td>IM</td>\n",
       "      <td>16</td>\n",
       "      <td>US</td>\n",
       "      <td>United States</td>\n",
       "      <td>premium</td>\n",
       "      <td>False</td>\n",
       "      <td>False</td>\n",
       "      <td>Silver</td>\n",
       "    </tr>\n",
       "    <tr>\n",
       "      <th>101</th>\n",
       "      <td>Bach Ngoc Thuy Duong</td>\n",
       "      <td>duong57</td>\n",
       "      <td>WIM</td>\n",
       "      <td>97</td>\n",
       "      <td>VN</td>\n",
       "      <td>Vietnam</td>\n",
       "      <td>premium</td>\n",
       "      <td>False</td>\n",
       "      <td>False</td>\n",
       "      <td>Stone</td>\n",
       "    </tr>\n",
       "    <tr>\n",
       "      <th>618</th>\n",
       "      <td>Roberto James</td>\n",
       "      <td>fisher_thegalactic</td>\n",
       "      <td>IM</td>\n",
       "      <td>11</td>\n",
       "      <td>BO</td>\n",
       "      <td>Bolivia</td>\n",
       "      <td>premium</td>\n",
       "      <td>False</td>\n",
       "      <td>False</td>\n",
       "      <td>Elite</td>\n",
       "    </tr>\n",
       "    <tr>\n",
       "      <th>2008</th>\n",
       "      <td>Rajesh VAV</td>\n",
       "      <td>vavrajesh</td>\n",
       "      <td>IM</td>\n",
       "      <td>45</td>\n",
       "      <td>IN</td>\n",
       "      <td>India</td>\n",
       "      <td>premium</td>\n",
       "      <td>False</td>\n",
       "      <td>False</td>\n",
       "      <td>Silver</td>\n",
       "    </tr>\n",
       "    <tr>\n",
       "      <th>1043</th>\n",
       "      <td>Kyron Griffith</td>\n",
       "      <td>kyrongriffith</td>\n",
       "      <td>IM</td>\n",
       "      <td>159</td>\n",
       "      <td>US</td>\n",
       "      <td>United States</td>\n",
       "      <td>premium</td>\n",
       "      <td>False</td>\n",
       "      <td>False</td>\n",
       "      <td>Silver</td>\n",
       "    </tr>\n",
       "  </tbody>\n",
       "</table>\n",
       "</div>"
      ],
      "text/plain": [
       "                      name            username title  followers country_code  \\\n",
       "619            Bence Szabó          fitnessben    IM        284           HU   \n",
       "1975          Sabir Umarov         umarovsabir    IM          4           UZ   \n",
       "1008     Alexander Kopylov        kopylov_alex    IM         38           RU   \n",
       "1188         Marcus Harvey       marcus_harvey    IM        724           GB   \n",
       "304         saina salonika       sainasalonika   WIM         54           IN   \n",
       "1605          Richard Wang        richardcwang    IM         16           US   \n",
       "101   Bach Ngoc Thuy Duong             duong57   WIM         97           VN   \n",
       "618          Roberto James  fisher_thegalactic    IM         11           BO   \n",
       "2008            Rajesh VAV           vavrajesh    IM         45           IN   \n",
       "1043        Kyron Griffith       kyrongriffith    IM        159           US   \n",
       "\n",
       "             country   status  is_streamer  verified   league  \n",
       "619          Hungary  premium        False     False   Silver  \n",
       "1975      Uzbekistan  premium        False     False   Bronze  \n",
       "1008          Russia  premium        False     False   Legend  \n",
       "1188  United Kingdom  premium        False     False   Legend  \n",
       "304            India  premium        False     False  Crystal  \n",
       "1605   United States  premium        False     False   Silver  \n",
       "101          Vietnam  premium        False     False    Stone  \n",
       "618          Bolivia  premium        False     False    Elite  \n",
       "2008           India  premium        False     False   Silver  \n",
       "1043   United States  premium        False     False   Silver  "
      ]
     },
     "execution_count": 9,
     "metadata": {},
     "output_type": "execute_result"
    }
   ],
   "source": [
    "# # Create a list with the relevant column names, which can be seen from the original ChessDotCom Response.\n",
    "column_names = [\"name\", \"username\", \"title\", \"followers\", \"country_code\", \"country\", \"status\", \"is_streamer\", \"verified\", \"league\"]\n",
    "\n",
    "# # Put all the player profile listed data into pandas dataframes with the column names.\n",
    "plist1 = pd.DataFrame(list1, columns=column_names)\n",
    "plist2 = pd.DataFrame(list2, columns=column_names)\n",
    "\n",
    "data_frames = [plist1, plist2]\n",
    "\n",
    "im_wim_player_profiles = pd.concat(data_frames)\n",
    "\n",
    "# Sample the dataframe, and show the head to get a visual representation of the data currently.\n",
    "df_elements = im_wim_player_profiles.sample(n=10)\n",
    "df_elements.head(10)"
   ]
  },
  {
   "cell_type": "code",
   "execution_count": 10,
   "id": "729a6e25-7e91-4559-9389-1da89c997ca9",
   "metadata": {},
   "outputs": [
    {
     "name": "stdout",
     "output_type": "stream",
     "text": [
      "<class 'pandas.core.frame.DataFrame'>\n",
      "Index: 2536 entries, 0 to 379\n",
      "Data columns (total 10 columns):\n",
      " #   Column        Non-Null Count  Dtype \n",
      "---  ------        --------------  ----- \n",
      " 0   name          2111 non-null   object\n",
      " 1   username      2536 non-null   object\n",
      " 2   title         2536 non-null   object\n",
      " 3   followers     2536 non-null   int64 \n",
      " 4   country_code  2536 non-null   object\n",
      " 5   country       2536 non-null   object\n",
      " 6   status        2536 non-null   object\n",
      " 7   is_streamer   2536 non-null   bool  \n",
      " 8   verified      2536 non-null   bool  \n",
      " 9   league        2047 non-null   object\n",
      "dtypes: bool(2), int64(1), object(7)\n",
      "memory usage: 183.3+ KB\n"
     ]
    }
   ],
   "source": [
    "im_wim_player_profiles.info()"
   ]
  },
  {
   "cell_type": "code",
   "execution_count": 11,
   "id": "beccdef2-3153-4e08-ad21-ed7a49955c14",
   "metadata": {},
   "outputs": [
    {
     "name": "stdout",
     "output_type": "stream",
     "text": [
      "0\n"
     ]
    }
   ],
   "source": [
    "print(len(list1_failed))"
   ]
  },
  {
   "cell_type": "code",
   "execution_count": 12,
   "id": "225ecb3a-a6a1-40a4-987c-6c42dd1ef7eb",
   "metadata": {},
   "outputs": [
    {
     "name": "stdout",
     "output_type": "stream",
     "text": [
      "1\n"
     ]
    }
   ],
   "source": [
    "print(len(list2_failed))"
   ]
  },
  {
   "cell_type": "code",
   "execution_count": 13,
   "id": "21d61c26-5d35-48f6-ac9d-1d9377d28f60",
   "metadata": {},
   "outputs": [],
   "source": [
    "with open('Collected_Chess_Data/im_wim_player_profiles.pkl', 'wb') as file:\n",
    "    pickle.dump(im_wim_player_profiles, file)"
   ]
  },
  {
   "cell_type": "code",
   "execution_count": 14,
   "id": "3bbc78fd-b6b3-47c7-abb1-a4545874d851",
   "metadata": {},
   "outputs": [],
   "source": [
    "with open('Collected_Chess_Data/im_wim_player_profiles.pkl', 'rb') as file:\n",
    "    loaded_first_frame = pickle.load(file)"
   ]
  },
  {
   "cell_type": "code",
   "execution_count": 15,
   "id": "f01820de-d82a-430b-81d7-d2851dc8b9cc",
   "metadata": {},
   "outputs": [
    {
     "name": "stdout",
     "output_type": "stream",
     "text": [
      "<class 'pandas.core.frame.DataFrame'>\n",
      "Index: 2536 entries, 0 to 379\n",
      "Data columns (total 10 columns):\n",
      " #   Column        Non-Null Count  Dtype \n",
      "---  ------        --------------  ----- \n",
      " 0   name          2111 non-null   object\n",
      " 1   username      2536 non-null   object\n",
      " 2   title         2536 non-null   object\n",
      " 3   followers     2536 non-null   int64 \n",
      " 4   country_code  2536 non-null   object\n",
      " 5   country       2536 non-null   object\n",
      " 6   status        2536 non-null   object\n",
      " 7   is_streamer   2536 non-null   bool  \n",
      " 8   verified      2536 non-null   bool  \n",
      " 9   league        2047 non-null   object\n",
      "dtypes: bool(2), int64(1), object(7)\n",
      "memory usage: 183.3+ KB\n"
     ]
    }
   ],
   "source": [
    "# Display the open first frame pkl file to check its contents.\n",
    "loaded_first_frame.info()"
   ]
  },
  {
   "cell_type": "code",
   "execution_count": null,
   "id": "b1c254be-cd5b-4f90-8463-2a9a31530043",
   "metadata": {},
   "outputs": [],
   "source": []
  }
 ],
 "metadata": {
  "kernelspec": {
   "display_name": "Python 3 (ipykernel)",
   "language": "python",
   "name": "python3"
  },
  "language_info": {
   "codemirror_mode": {
    "name": "ipython",
    "version": 3
   },
   "file_extension": ".py",
   "mimetype": "text/x-python",
   "name": "python",
   "nbconvert_exporter": "python",
   "pygments_lexer": "ipython3",
   "version": "3.10.0"
  }
 },
 "nbformat": 4,
 "nbformat_minor": 5
}
