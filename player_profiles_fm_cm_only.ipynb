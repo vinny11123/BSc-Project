{
 "cells": [
  {
   "cell_type": "code",
   "execution_count": 1,
   "id": "ee6b701e-c5c4-463c-a00a-db98e1a7b4ea",
   "metadata": {},
   "outputs": [],
   "source": [
    "## Imports\n",
    "from chessdotcom import *\n",
    "from preprocess import *\n",
    "\n",
    "import numpy as np\n",
    "import pandas as pd\n",
    "import pickle"
   ]
  },
  {
   "cell_type": "code",
   "execution_count": 2,
   "id": "3bbcf356-ab42-4aa1-a1e0-101a2c56f127",
   "metadata": {},
   "outputs": [],
   "source": [
    "## Configure Headers, as the Project uses requests package to interact with the API. Headers and paxis can be set\n",
    "## through the Client Object.\n",
    "from chessdotcom import Client\n",
    "\n",
    "Client.request_config[\"headers\"][\"User-Agent\"] = (\n",
    " \"Machine learning for chess match outcome Prediction, BSc in Computer Science Dissertation, University of Lincoln\"\n",
    " \"Contact me at conorjackvincent@live.co.uk\"\n",
    ")\n",
    "\n",
    "# Implement rate limiting to be applied to any method used within the chessdotcom library.\n",
    "Client.rate_limit_handler.tries = 2\n",
    "Client.rate_limit_handler.tts = 4"
   ]
  },
  {
   "cell_type": "code",
   "execution_count": 3,
   "id": "13db633f-ac2e-418a-99df-ca6ffb70fe3e",
   "metadata": {},
   "outputs": [],
   "source": [
    "fm_list = titled_player_names(\"FM\")\n",
    "cm_list = titled_player_names(\"CM\")"
   ]
  },
  {
   "cell_type": "code",
   "execution_count": 4,
   "id": "83ac2de0-65c7-4df2-bfc1-079114a1dd78",
   "metadata": {},
   "outputs": [
    {
     "name": "stdout",
     "output_type": "stream",
     "text": [
      "Number of FMs: 3572, Number of CMs: 1471\n"
     ]
    }
   ],
   "source": [
    "print(f\"Number of FMs: {len(fm_list)}, Number of CMs: {len(cm_list)}\")"
   ]
  },
  {
   "cell_type": "code",
   "execution_count": 5,
   "id": "aafa9d13-a61c-4896-8897-f0f72512ce0d",
   "metadata": {},
   "outputs": [
    {
     "name": "stdout",
     "output_type": "stream",
     "text": [
      "Error for wizarddesert: <class 'chessdotcom.types.ChessDotComError'>(status_code=404, text={\"code\":0,\"message\":\"An internal error has occurred. Please contact Chess.com Developer's Forum for further help https://www.chess.com/club/chess-com-developer-community .\"})\n",
      "Retrying for wizarddesert attempt 1...\n",
      "Error for wizarddesert: <class 'chessdotcom.types.ChessDotComError'>(status_code=404, text={\"code\":0,\"message\":\"An internal error has occurred. Please contact Chess.com Developer's Forum for further help https://www.chess.com/club/chess-com-developer-community .\"})\n",
      "Retrying for wizarddesert attempt 2...\n",
      "Error for wizarddesert: <class 'chessdotcom.types.ChessDotComError'>(status_code=404, text={\"code\":0,\"message\":\"An internal error has occurred. Please contact Chess.com Developer's Forum for further help https://www.chess.com/club/chess-com-developer-community .\"})\n",
      "Retrying for wizarddesert attempt 3...\n",
      "Error for wizarddesert: <class 'chessdotcom.types.ChessDotComError'>(status_code=404, text={\"code\":0,\"message\":\"An internal error has occurred. Please contact Chess.com Developer's Forum for further help https://www.chess.com/club/chess-com-developer-community .\"})\n",
      "Retrying for wizarddesert attempt 4...\n",
      "Error for wizarddesert: <class 'chessdotcom.types.ChessDotComError'>(status_code=404, text={\"code\":0,\"message\":\"An internal error has occurred. Please contact Chess.com Developer's Forum for further help https://www.chess.com/club/chess-com-developer-community .\"})\n",
      "Retrying for wizarddesert attempt 5...\n",
      "Error for wizarddesert: <class 'chessdotcom.types.ChessDotComError'>(status_code=404, text={\"code\":0,\"message\":\"An internal error has occurred. Please contact Chess.com Developer's Forum for further help https://www.chess.com/club/chess-com-developer-community .\"})\n",
      "Retrying for wizarddesert attempt 6...\n",
      "Error for wizarddesert: <class 'chessdotcom.types.ChessDotComError'>(status_code=404, text={\"code\":0,\"message\":\"An internal error has occurred. Please contact Chess.com Developer's Forum for further help https://www.chess.com/club/chess-com-developer-community .\"})\n",
      "Retrying for wizarddesert attempt 7...\n",
      "Error for wizarddesert: <class 'chessdotcom.types.ChessDotComError'>(status_code=404, text={\"code\":0,\"message\":\"An internal error has occurred. Please contact Chess.com Developer's Forum for further help https://www.chess.com/club/chess-com-developer-community .\"})\n",
      "Retrying for wizarddesert attempt 8...\n",
      "Error for wizarddesert: <class 'chessdotcom.types.ChessDotComError'>(status_code=404, text={\"code\":0,\"message\":\"An internal error has occurred. Please contact Chess.com Developer's Forum for further help https://www.chess.com/club/chess-com-developer-community .\"})\n",
      "Retrying for wizarddesert attempt 9...\n",
      "Error for wizarddesert: <class 'chessdotcom.types.ChessDotComError'>(status_code=404, text={\"code\":0,\"message\":\"An internal error has occurred. Please contact Chess.com Developer's Forum for further help https://www.chess.com/club/chess-com-developer-community .\"})\n",
      "Retrying for wizarddesert attempt 10...\n",
      "Error for wizarddesert: <class 'chessdotcom.types.ChessDotComError'>(status_code=404, text={\"code\":0,\"message\":\"An internal error has occurred. Please contact Chess.com Developer's Forum for further help https://www.chess.com/club/chess-com-developer-community .\"})\n",
      "Retrying for wizarddesert attempt 11...\n",
      "Error for wizarddesert: <class 'chessdotcom.types.ChessDotComError'>(status_code=404, text={\"code\":0,\"message\":\"An internal error has occurred. Please contact Chess.com Developer's Forum for further help https://www.chess.com/club/chess-com-developer-community .\"})\n",
      "Retrying for wizarddesert attempt 12...\n",
      "Error for wizarddesert: <class 'chessdotcom.types.ChessDotComError'>(status_code=404, text={\"code\":0,\"message\":\"An internal error has occurred. Please contact Chess.com Developer's Forum for further help https://www.chess.com/club/chess-com-developer-community .\"})\n",
      "Retrying for wizarddesert attempt 13...\n",
      "Error for wizarddesert: <class 'chessdotcom.types.ChessDotComError'>(status_code=404, text={\"code\":0,\"message\":\"An internal error has occurred. Please contact Chess.com Developer's Forum for further help https://www.chess.com/club/chess-com-developer-community .\"})\n",
      "Retrying for wizarddesert attempt 14...\n",
      "Error for wizarddesert: <class 'chessdotcom.types.ChessDotComError'>(status_code=404, text={\"code\":0,\"message\":\"An internal error has occurred. Please contact Chess.com Developer's Forum for further help https://www.chess.com/club/chess-com-developer-community .\"})\n",
      "Retrying for wizarddesert attempt 15...\n",
      "Error for wizarddesert: <class 'chessdotcom.types.ChessDotComError'>(status_code=404, text={\"code\":0,\"message\":\"An internal error has occurred. Please contact Chess.com Developer's Forum for further help https://www.chess.com/club/chess-com-developer-community .\"})\n",
      "Max retries reached for wizarddesert. Moving on.\n"
     ]
    }
   ],
   "source": [
    "# Gather two lists, one of all FM player profiles and another with failed FM usernames.\n",
    "list1, list1_failed = build_df_player_profiles(fm_list)"
   ]
  },
  {
   "cell_type": "code",
   "execution_count": 6,
   "id": "67d44667-4a88-4b71-abcd-98ade90a7f77",
   "metadata": {},
   "outputs": [],
   "source": [
    "# Gather two lists, one of all CM player profiles and another with failed CM usernames.\n",
    "list2, list2_failed = build_df_player_profiles(cm_list)"
   ]
  },
  {
   "cell_type": "code",
   "execution_count": 7,
   "id": "97bf50ca-ae20-41f2-a4a6-e952e7790b44",
   "metadata": {},
   "outputs": [
    {
     "data": {
      "text/html": [
       "<div>\n",
       "<style scoped>\n",
       "    .dataframe tbody tr th:only-of-type {\n",
       "        vertical-align: middle;\n",
       "    }\n",
       "\n",
       "    .dataframe tbody tr th {\n",
       "        vertical-align: top;\n",
       "    }\n",
       "\n",
       "    .dataframe thead th {\n",
       "        text-align: right;\n",
       "    }\n",
       "</style>\n",
       "<table border=\"1\" class=\"dataframe\">\n",
       "  <thead>\n",
       "    <tr style=\"text-align: right;\">\n",
       "      <th></th>\n",
       "      <th>name</th>\n",
       "      <th>username</th>\n",
       "      <th>title</th>\n",
       "      <th>followers</th>\n",
       "      <th>country_code</th>\n",
       "      <th>country</th>\n",
       "      <th>status</th>\n",
       "      <th>is_streamer</th>\n",
       "      <th>verified</th>\n",
       "      <th>league</th>\n",
       "    </tr>\n",
       "  </thead>\n",
       "  <tbody>\n",
       "    <tr>\n",
       "      <th>891</th>\n",
       "      <td>None</td>\n",
       "      <td>dracotitillandus</td>\n",
       "      <td>FM</td>\n",
       "      <td>5</td>\n",
       "      <td>EU</td>\n",
       "      <td>European Union</td>\n",
       "      <td>premium</td>\n",
       "      <td>False</td>\n",
       "      <td>False</td>\n",
       "      <td>Crystal</td>\n",
       "    </tr>\n",
       "    <tr>\n",
       "      <th>3494</th>\n",
       "      <td>Dincer Tasdogen</td>\n",
       "      <td>yavrukurt40</td>\n",
       "      <td>FM</td>\n",
       "      <td>199</td>\n",
       "      <td>TR</td>\n",
       "      <td>Türkiye</td>\n",
       "      <td>premium</td>\n",
       "      <td>False</td>\n",
       "      <td>False</td>\n",
       "      <td>Crystal</td>\n",
       "    </tr>\n",
       "    <tr>\n",
       "      <th>3501</th>\n",
       "      <td>None</td>\n",
       "      <td>yeritsyan_aram</td>\n",
       "      <td>FM</td>\n",
       "      <td>12</td>\n",
       "      <td>RU</td>\n",
       "      <td>Russia</td>\n",
       "      <td>premium</td>\n",
       "      <td>False</td>\n",
       "      <td>False</td>\n",
       "      <td>Silver</td>\n",
       "    </tr>\n",
       "    <tr>\n",
       "      <th>422</th>\n",
       "      <td>Yuri Kozin</td>\n",
       "      <td>drceltic</td>\n",
       "      <td>CM</td>\n",
       "      <td>7</td>\n",
       "      <td>XX</td>\n",
       "      <td>International</td>\n",
       "      <td>premium</td>\n",
       "      <td>False</td>\n",
       "      <td>False</td>\n",
       "      <td>Legend</td>\n",
       "    </tr>\n",
       "    <tr>\n",
       "      <th>405</th>\n",
       "      <td>John Veny Akkarakaran</td>\n",
       "      <td>djokovic74</td>\n",
       "      <td>CM</td>\n",
       "      <td>41</td>\n",
       "      <td>IN</td>\n",
       "      <td>India</td>\n",
       "      <td>premium</td>\n",
       "      <td>False</td>\n",
       "      <td>False</td>\n",
       "      <td>Champion</td>\n",
       "    </tr>\n",
       "    <tr>\n",
       "      <th>144</th>\n",
       "      <td>Andreas Demosthenous</td>\n",
       "      <td>baldy</td>\n",
       "      <td>CM</td>\n",
       "      <td>24</td>\n",
       "      <td>CY</td>\n",
       "      <td>Cyprus</td>\n",
       "      <td>premium</td>\n",
       "      <td>False</td>\n",
       "      <td>False</td>\n",
       "      <td>Elite</td>\n",
       "    </tr>\n",
       "    <tr>\n",
       "      <th>1392</th>\n",
       "      <td>ATAKİSİ FATİH</td>\n",
       "      <td>hocalarinhocasi</td>\n",
       "      <td>FM</td>\n",
       "      <td>23</td>\n",
       "      <td>TR</td>\n",
       "      <td>Türkiye</td>\n",
       "      <td>premium</td>\n",
       "      <td>False</td>\n",
       "      <td>False</td>\n",
       "      <td>None</td>\n",
       "    </tr>\n",
       "    <tr>\n",
       "      <th>1329</th>\n",
       "      <td>Gislason ,Gudmundur</td>\n",
       "      <td>gummigisla</td>\n",
       "      <td>FM</td>\n",
       "      <td>15</td>\n",
       "      <td>IS</td>\n",
       "      <td>Iceland</td>\n",
       "      <td>premium</td>\n",
       "      <td>False</td>\n",
       "      <td>False</td>\n",
       "      <td>Crystal</td>\n",
       "    </tr>\n",
       "    <tr>\n",
       "      <th>442</th>\n",
       "      <td>Grigor Dilanyan</td>\n",
       "      <td>blackgod93</td>\n",
       "      <td>FM</td>\n",
       "      <td>79</td>\n",
       "      <td>AM</td>\n",
       "      <td>Armenia</td>\n",
       "      <td>premium</td>\n",
       "      <td>False</td>\n",
       "      <td>False</td>\n",
       "      <td>Silver</td>\n",
       "    </tr>\n",
       "    <tr>\n",
       "      <th>861</th>\n",
       "      <td>Дмитрий Конопля</td>\n",
       "      <td>dmitry2656</td>\n",
       "      <td>FM</td>\n",
       "      <td>9</td>\n",
       "      <td>RU</td>\n",
       "      <td>Russia</td>\n",
       "      <td>premium</td>\n",
       "      <td>False</td>\n",
       "      <td>False</td>\n",
       "      <td>Wood</td>\n",
       "    </tr>\n",
       "  </tbody>\n",
       "</table>\n",
       "</div>"
      ],
      "text/plain": [
       "                       name          username title  followers country_code  \\\n",
       "891                    None  dracotitillandus    FM          5           EU   \n",
       "3494        Dincer Tasdogen       yavrukurt40    FM        199           TR   \n",
       "3501                   None    yeritsyan_aram    FM         12           RU   \n",
       "422              Yuri Kozin          drceltic    CM          7           XX   \n",
       "405   John Veny Akkarakaran        djokovic74    CM         41           IN   \n",
       "144    Andreas Demosthenous             baldy    CM         24           CY   \n",
       "1392          ATAKİSİ FATİH   hocalarinhocasi    FM         23           TR   \n",
       "1329    Gislason ,Gudmundur        gummigisla    FM         15           IS   \n",
       "442         Grigor Dilanyan        blackgod93    FM         79           AM   \n",
       "861         Дмитрий Конопля        dmitry2656    FM          9           RU   \n",
       "\n",
       "             country   status  is_streamer  verified    league  \n",
       "891   European Union  premium        False     False   Crystal  \n",
       "3494         Türkiye  premium        False     False   Crystal  \n",
       "3501          Russia  premium        False     False    Silver  \n",
       "422    International  premium        False     False    Legend  \n",
       "405            India  premium        False     False  Champion  \n",
       "144           Cyprus  premium        False     False     Elite  \n",
       "1392         Türkiye  premium        False     False      None  \n",
       "1329         Iceland  premium        False     False   Crystal  \n",
       "442          Armenia  premium        False     False    Silver  \n",
       "861           Russia  premium        False     False      Wood  "
      ]
     },
     "execution_count": 7,
     "metadata": {},
     "output_type": "execute_result"
    }
   ],
   "source": [
    "# # Create a list with the relevant column names, which can be seen from the original ChessDotCom Response.\n",
    "column_names = [\"name\", \"username\", \"title\", \"followers\", \"country_code\", \"country\", \"status\", \"is_streamer\", \"verified\", \"league\"]\n",
    "\n",
    "# # Put all the player profile listed data into pandas dataframes with the column names.\n",
    "plist1 = pd.DataFrame(list1, columns=column_names)\n",
    "plist2 = pd.DataFrame(list2, columns=column_names)\n",
    "\n",
    "data_frames = [plist1, plist2]\n",
    "\n",
    "fm_cm_player_profiles = pd.concat(data_frames)\n",
    "\n",
    "# Sample the dataframe, and show the head to get a visual representation of the data currently.\n",
    "df_elements = fm_cm_player_profiles.sample(n=10)\n",
    "df_elements.head(10)"
   ]
  },
  {
   "cell_type": "code",
   "execution_count": 8,
   "id": "7ad5a2d6-c070-49ac-98bb-5c4f85b16481",
   "metadata": {},
   "outputs": [
    {
     "name": "stdout",
     "output_type": "stream",
     "text": [
      "<class 'pandas.core.frame.DataFrame'>\n",
      "Index: 5042 entries, 0 to 1470\n",
      "Data columns (total 10 columns):\n",
      " #   Column        Non-Null Count  Dtype \n",
      "---  ------        --------------  ----- \n",
      " 0   name          4073 non-null   object\n",
      " 1   username      5042 non-null   object\n",
      " 2   title         5042 non-null   object\n",
      " 3   followers     5042 non-null   int64 \n",
      " 4   country_code  5042 non-null   object\n",
      " 5   country       5042 non-null   object\n",
      " 6   status        5042 non-null   object\n",
      " 7   is_streamer   5042 non-null   bool  \n",
      " 8   verified      5042 non-null   bool  \n",
      " 9   league        4389 non-null   object\n",
      "dtypes: bool(2), int64(1), object(7)\n",
      "memory usage: 364.4+ KB\n"
     ]
    }
   ],
   "source": [
    "fm_cm_player_profiles.info()"
   ]
  },
  {
   "cell_type": "code",
   "execution_count": 9,
   "id": "ba6f3d2d-51cd-41ae-9eae-30abf1619945",
   "metadata": {},
   "outputs": [
    {
     "name": "stdout",
     "output_type": "stream",
     "text": [
      "1\n"
     ]
    }
   ],
   "source": [
    "print(len(list1_failed))"
   ]
  },
  {
   "cell_type": "code",
   "execution_count": 10,
   "id": "e87ac135-7503-4d8c-8d40-d31baad5648b",
   "metadata": {},
   "outputs": [
    {
     "name": "stdout",
     "output_type": "stream",
     "text": [
      "0\n"
     ]
    }
   ],
   "source": [
    "print(len(list2_failed))"
   ]
  },
  {
   "cell_type": "code",
   "execution_count": 13,
   "id": "cbee330e-0789-43e3-aeb7-c40d61a75ea9",
   "metadata": {},
   "outputs": [],
   "source": [
    "with open('Collected_Chess_Data/fm_cm_player_profiles.pkl', 'wb') as file:\n",
    "    pickle.dump(fm_cm_player_profiles, file)"
   ]
  },
  {
   "cell_type": "code",
   "execution_count": 11,
   "id": "58f69d3b-bdc9-4d0e-a5c2-7e5424b7102d",
   "metadata": {},
   "outputs": [],
   "source": [
    "with open('Collected_Chess_Data/fm_cm_player_profiles.pkl', 'rb') as file:\n",
    "    loaded_first_frame = pickle.load(file)"
   ]
  },
  {
   "cell_type": "code",
   "execution_count": 12,
   "id": "ec59d509-520c-4f57-b588-363d11c2e735",
   "metadata": {},
   "outputs": [
    {
     "name": "stdout",
     "output_type": "stream",
     "text": [
      "<class 'pandas.core.frame.DataFrame'>\n",
      "Index: 5042 entries, 0 to 1470\n",
      "Data columns (total 10 columns):\n",
      " #   Column        Non-Null Count  Dtype \n",
      "---  ------        --------------  ----- \n",
      " 0   name          4073 non-null   object\n",
      " 1   username      5042 non-null   object\n",
      " 2   title         5042 non-null   object\n",
      " 3   followers     5042 non-null   int64 \n",
      " 4   country_code  5042 non-null   object\n",
      " 5   country       5042 non-null   object\n",
      " 6   status        5042 non-null   object\n",
      " 7   is_streamer   5042 non-null   bool  \n",
      " 8   verified      5042 non-null   bool  \n",
      " 9   league        4389 non-null   object\n",
      "dtypes: bool(2), int64(1), object(7)\n",
      "memory usage: 364.4+ KB\n"
     ]
    }
   ],
   "source": [
    "# Display the open first frame pkl file to check its contents.\n",
    "loaded_first_frame.info()"
   ]
  }
 ],
 "metadata": {
  "kernelspec": {
   "display_name": "Python 3 (ipykernel)",
   "language": "python",
   "name": "python3"
  },
  "language_info": {
   "codemirror_mode": {
    "name": "ipython",
    "version": 3
   },
   "file_extension": ".py",
   "mimetype": "text/x-python",
   "name": "python",
   "nbconvert_exporter": "python",
   "pygments_lexer": "ipython3",
   "version": "3.10.0"
  }
 },
 "nbformat": 4,
 "nbformat_minor": 5
}
