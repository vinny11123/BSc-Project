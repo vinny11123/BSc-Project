{
 "cells": [
  {
   "cell_type": "code",
   "execution_count": 1,
   "id": "1b3c4ff9-dfbd-4354-9403-0ce2dd4aa595",
   "metadata": {},
   "outputs": [],
   "source": [
    "## Imports\n",
    "from chessdotcom import *\n",
    "from preprocess import *\n",
    "\n",
    "import numpy as np\n",
    "import pandas as pd\n",
    "import pickle"
   ]
  },
  {
   "cell_type": "code",
   "execution_count": 2,
   "id": "74181446-94c9-47e1-9664-7f0959e45444",
   "metadata": {},
   "outputs": [],
   "source": [
    "## Configure Headers, as the Project uses requests package to interact with the API. Headers and paxis can be set\n",
    "## through the Client Object.\n",
    "from chessdotcom import Client\n",
    "\n",
    "Client.request_config[\"headers\"][\"User-Agent\"] = (\n",
    " \"Machine learning for chess match outcome Prediction, BSc in Computer Science Dissertation, University of Lincoln\"\n",
    " \"Contact me at conorjackvincent@live.co.uk\"\n",
    ")\n",
    "\n",
    "# Implement rate limiting to be applied to any method used within the chessdotcom library.\n",
    "Client.rate_limit_handler.tries = 2\n",
    "Client.rate_limit_handler.tts = 4"
   ]
  },
  {
   "cell_type": "code",
   "execution_count": 3,
   "id": "5c944a93-dd44-4704-bae2-ccd985159466",
   "metadata": {},
   "outputs": [],
   "source": [
    "wfm_list = titled_player_names(\"WFM\")\n",
    "wcm_list = titled_player_names(\"WCM\")"
   ]
  },
  {
   "cell_type": "code",
   "execution_count": 4,
   "id": "18abdebf-2f10-4c7c-9cbd-b1e5560f70f0",
   "metadata": {},
   "outputs": [
    {
     "name": "stdout",
     "output_type": "stream",
     "text": [
      "Number of WFMs: 671, Number of WCMs: 381\n"
     ]
    }
   ],
   "source": [
    "print(f\"Number of WFMs: {len(wfm_list)}, Number of WCMs: {len(wcm_list)}\")"
   ]
  },
  {
   "cell_type": "code",
   "execution_count": 5,
   "id": "d75fc39f-761f-435e-9a22-d43cdedcac37",
   "metadata": {},
   "outputs": [],
   "source": [
    "# Gather two lists, one of all WFM player profiles and another with failed WFM usernames.\n",
    "list1, list1_failed = build_df_player_profiles(wfm_list)"
   ]
  },
  {
   "cell_type": "code",
   "execution_count": 6,
   "id": "43f42ceb-9fe2-4207-a3c1-4c6fc70a9331",
   "metadata": {},
   "outputs": [],
   "source": [
    "# Gather two lists, one of all WCM player profiles and another with failed WCM usernames.\n",
    "list2, list2_failed = build_df_player_profiles(wcm_list)"
   ]
  },
  {
   "cell_type": "code",
   "execution_count": 7,
   "id": "5651a1d8-bd2e-4596-919d-6347e744059d",
   "metadata": {},
   "outputs": [
    {
     "data": {
      "text/html": [
       "<div>\n",
       "<style scoped>\n",
       "    .dataframe tbody tr th:only-of-type {\n",
       "        vertical-align: middle;\n",
       "    }\n",
       "\n",
       "    .dataframe tbody tr th {\n",
       "        vertical-align: top;\n",
       "    }\n",
       "\n",
       "    .dataframe thead th {\n",
       "        text-align: right;\n",
       "    }\n",
       "</style>\n",
       "<table border=\"1\" class=\"dataframe\">\n",
       "  <thead>\n",
       "    <tr style=\"text-align: right;\">\n",
       "      <th></th>\n",
       "      <th>name</th>\n",
       "      <th>username</th>\n",
       "      <th>title</th>\n",
       "      <th>followers</th>\n",
       "      <th>country_code</th>\n",
       "      <th>country</th>\n",
       "      <th>status</th>\n",
       "      <th>is_streamer</th>\n",
       "      <th>verified</th>\n",
       "      <th>league</th>\n",
       "    </tr>\n",
       "  </thead>\n",
       "  <tbody>\n",
       "    <tr>\n",
       "      <th>300</th>\n",
       "      <td>Alserkal Rouda Essa</td>\n",
       "      <td>rxxa_00</td>\n",
       "      <td>WCM</td>\n",
       "      <td>15</td>\n",
       "      <td>AE</td>\n",
       "      <td>United Arab Emirates</td>\n",
       "      <td>premium</td>\n",
       "      <td>False</td>\n",
       "      <td>False</td>\n",
       "      <td>Silver</td>\n",
       "    </tr>\n",
       "    <tr>\n",
       "      <th>120</th>\n",
       "      <td>Naledi Marape</td>\n",
       "      <td>chessgm3000_bw</td>\n",
       "      <td>WFM</td>\n",
       "      <td>5</td>\n",
       "      <td>BW</td>\n",
       "      <td>Botswana</td>\n",
       "      <td>premium</td>\n",
       "      <td>False</td>\n",
       "      <td>False</td>\n",
       "      <td>Wood</td>\n",
       "    </tr>\n",
       "    <tr>\n",
       "      <th>477</th>\n",
       "      <td>Oksana Kosteniuk</td>\n",
       "      <td>porosen</td>\n",
       "      <td>WFM</td>\n",
       "      <td>27</td>\n",
       "      <td>RU</td>\n",
       "      <td>Russia</td>\n",
       "      <td>premium</td>\n",
       "      <td>False</td>\n",
       "      <td>False</td>\n",
       "      <td>Stone</td>\n",
       "    </tr>\n",
       "    <tr>\n",
       "      <th>398</th>\n",
       "      <td>Anni Guo</td>\n",
       "      <td>moldytofu</td>\n",
       "      <td>WFM</td>\n",
       "      <td>42</td>\n",
       "      <td>CA</td>\n",
       "      <td>Canada</td>\n",
       "      <td>premium</td>\n",
       "      <td>False</td>\n",
       "      <td>False</td>\n",
       "      <td>Champion</td>\n",
       "    </tr>\n",
       "    <tr>\n",
       "      <th>393</th>\n",
       "      <td>Miryam Calle</td>\n",
       "      <td>miryamcalle</td>\n",
       "      <td>WFM</td>\n",
       "      <td>3</td>\n",
       "      <td>LA</td>\n",
       "      <td>Laos</td>\n",
       "      <td>premium</td>\n",
       "      <td>False</td>\n",
       "      <td>False</td>\n",
       "      <td>None</td>\n",
       "    </tr>\n",
       "    <tr>\n",
       "      <th>470</th>\n",
       "      <td>Polina Kobak</td>\n",
       "      <td>pikku_myy73</td>\n",
       "      <td>WFM</td>\n",
       "      <td>3</td>\n",
       "      <td>AM</td>\n",
       "      <td>Armenia</td>\n",
       "      <td>premium</td>\n",
       "      <td>False</td>\n",
       "      <td>False</td>\n",
       "      <td>Bronze</td>\n",
       "    </tr>\n",
       "    <tr>\n",
       "      <th>277</th>\n",
       "      <td>None</td>\n",
       "      <td>pradeepthi</td>\n",
       "      <td>WCM</td>\n",
       "      <td>19</td>\n",
       "      <td>IN</td>\n",
       "      <td>India</td>\n",
       "      <td>premium</td>\n",
       "      <td>False</td>\n",
       "      <td>False</td>\n",
       "      <td>None</td>\n",
       "    </tr>\n",
       "    <tr>\n",
       "      <th>429</th>\n",
       "      <td>Anastasiia Hnatyshyn</td>\n",
       "      <td>nastyahn</td>\n",
       "      <td>WFM</td>\n",
       "      <td>24</td>\n",
       "      <td>UA</td>\n",
       "      <td>Ukraine</td>\n",
       "      <td>premium</td>\n",
       "      <td>False</td>\n",
       "      <td>False</td>\n",
       "      <td>Bronze</td>\n",
       "    </tr>\n",
       "    <tr>\n",
       "      <th>452</th>\n",
       "      <td>Eva Maria Zickelbein</td>\n",
       "      <td>olympedg</td>\n",
       "      <td>WFM</td>\n",
       "      <td>3</td>\n",
       "      <td>DE</td>\n",
       "      <td>Germany</td>\n",
       "      <td>premium</td>\n",
       "      <td>False</td>\n",
       "      <td>False</td>\n",
       "      <td>None</td>\n",
       "    </tr>\n",
       "    <tr>\n",
       "      <th>194</th>\n",
       "      <td>None</td>\n",
       "      <td>estudiar_001</td>\n",
       "      <td>WFM</td>\n",
       "      <td>15</td>\n",
       "      <td>CO</td>\n",
       "      <td>Colombia</td>\n",
       "      <td>premium</td>\n",
       "      <td>False</td>\n",
       "      <td>False</td>\n",
       "      <td>Bronze</td>\n",
       "    </tr>\n",
       "  </tbody>\n",
       "</table>\n",
       "</div>"
      ],
      "text/plain": [
       "                     name        username title  followers country_code  \\\n",
       "300   Alserkal Rouda Essa         rxxa_00   WCM         15           AE   \n",
       "120         Naledi Marape  chessgm3000_bw   WFM          5           BW   \n",
       "477      Oksana Kosteniuk         porosen   WFM         27           RU   \n",
       "398              Anni Guo       moldytofu   WFM         42           CA   \n",
       "393          Miryam Calle     miryamcalle   WFM          3           LA   \n",
       "470          Polina Kobak     pikku_myy73   WFM          3           AM   \n",
       "277                  None      pradeepthi   WCM         19           IN   \n",
       "429  Anastasiia Hnatyshyn        nastyahn   WFM         24           UA   \n",
       "452  Eva Maria Zickelbein        olympedg   WFM          3           DE   \n",
       "194                  None    estudiar_001   WFM         15           CO   \n",
       "\n",
       "                  country   status  is_streamer  verified    league  \n",
       "300  United Arab Emirates  premium        False     False    Silver  \n",
       "120              Botswana  premium        False     False      Wood  \n",
       "477                Russia  premium        False     False     Stone  \n",
       "398                Canada  premium        False     False  Champion  \n",
       "393                  Laos  premium        False     False      None  \n",
       "470               Armenia  premium        False     False    Bronze  \n",
       "277                 India  premium        False     False      None  \n",
       "429               Ukraine  premium        False     False    Bronze  \n",
       "452               Germany  premium        False     False      None  \n",
       "194              Colombia  premium        False     False    Bronze  "
      ]
     },
     "execution_count": 7,
     "metadata": {},
     "output_type": "execute_result"
    }
   ],
   "source": [
    "# # Create a list with the relevant column names, which can be seen from the original ChessDotCom Response.\n",
    "column_names = [\"name\", \"username\", \"title\", \"followers\", \"country_code\", \"country\", \"status\", \"is_streamer\", \"verified\", \"league\"]\n",
    "\n",
    "# # Put all the player profile listed data into pandas dataframes with the column names.\n",
    "plist1 = pd.DataFrame(list1, columns=column_names)\n",
    "plist2 = pd.DataFrame(list2, columns=column_names)\n",
    "\n",
    "data_frames = [plist1, plist2]\n",
    "\n",
    "wfm_wcm_player_profiles = pd.concat(data_frames)\n",
    "\n",
    "# Sample the dataframe, and show the head to get a visual representation of the data currently.\n",
    "df_elements = wfm_wcm_player_profiles.sample(n=10)\n",
    "df_elements.head(10)"
   ]
  },
  {
   "cell_type": "code",
   "execution_count": 8,
   "id": "f4dac0cf-c779-4257-8731-ad802a852b31",
   "metadata": {},
   "outputs": [
    {
     "name": "stdout",
     "output_type": "stream",
     "text": [
      "<class 'pandas.core.frame.DataFrame'>\n",
      "Index: 1052 entries, 0 to 380\n",
      "Data columns (total 10 columns):\n",
      " #   Column        Non-Null Count  Dtype \n",
      "---  ------        --------------  ----- \n",
      " 0   name          831 non-null    object\n",
      " 1   username      1052 non-null   object\n",
      " 2   title         1052 non-null   object\n",
      " 3   followers     1052 non-null   int64 \n",
      " 4   country_code  1052 non-null   object\n",
      " 5   country       1052 non-null   object\n",
      " 6   status        1052 non-null   object\n",
      " 7   is_streamer   1052 non-null   bool  \n",
      " 8   verified      1052 non-null   bool  \n",
      " 9   league        854 non-null    object\n",
      "dtypes: bool(2), int64(1), object(7)\n",
      "memory usage: 76.0+ KB\n"
     ]
    }
   ],
   "source": [
    "wfm_wcm_player_profiles.info()"
   ]
  },
  {
   "cell_type": "code",
   "execution_count": 9,
   "id": "fd1fdb25-2983-4467-8b7b-9a3a5b41f92b",
   "metadata": {},
   "outputs": [
    {
     "name": "stdout",
     "output_type": "stream",
     "text": [
      "0\n"
     ]
    }
   ],
   "source": [
    "print(len(list1_failed))"
   ]
  },
  {
   "cell_type": "code",
   "execution_count": 10,
   "id": "0d5a39f2-31b5-4ab0-b293-7fa7c122027e",
   "metadata": {},
   "outputs": [
    {
     "name": "stdout",
     "output_type": "stream",
     "text": [
      "0\n"
     ]
    }
   ],
   "source": [
    "print(len(list2_failed))"
   ]
  },
  {
   "cell_type": "code",
   "execution_count": 13,
   "id": "f5528d80-cc6d-4a5d-b78c-c350ec3e71d3",
   "metadata": {},
   "outputs": [],
   "source": [
    "with open('Collected_Chess_Data/wfm_wcm_player_profiles.pkl', 'wb') as file:\n",
    "    pickle.dump(wfm_wcm_player_profiles, file)"
   ]
  },
  {
   "cell_type": "code",
   "execution_count": 11,
   "id": "fbba8f5c-0e79-40c8-a06e-81caad0f7884",
   "metadata": {},
   "outputs": [],
   "source": [
    "with open('Collected_Chess_Data/wfm_wcm_player_profiles.pkl', 'rb') as file:\n",
    "    loaded_first_frame = pickle.load(file)"
   ]
  },
  {
   "cell_type": "code",
   "execution_count": 12,
   "id": "b0c17ebd-202e-4c0f-a7c7-94b6b2bf2859",
   "metadata": {},
   "outputs": [
    {
     "name": "stdout",
     "output_type": "stream",
     "text": [
      "<class 'pandas.core.frame.DataFrame'>\n",
      "Index: 1052 entries, 0 to 380\n",
      "Data columns (total 10 columns):\n",
      " #   Column        Non-Null Count  Dtype \n",
      "---  ------        --------------  ----- \n",
      " 0   name          831 non-null    object\n",
      " 1   username      1052 non-null   object\n",
      " 2   title         1052 non-null   object\n",
      " 3   followers     1052 non-null   int64 \n",
      " 4   country_code  1052 non-null   object\n",
      " 5   country       1052 non-null   object\n",
      " 6   status        1052 non-null   object\n",
      " 7   is_streamer   1052 non-null   bool  \n",
      " 8   verified      1052 non-null   bool  \n",
      " 9   league        854 non-null    object\n",
      "dtypes: bool(2), int64(1), object(7)\n",
      "memory usage: 76.0+ KB\n"
     ]
    }
   ],
   "source": [
    "# Display the open first frame pkl file to check its contents.\n",
    "loaded_first_frame.info()"
   ]
  },
  {
   "cell_type": "code",
   "execution_count": null,
   "id": "0d3405ea-21d4-40b2-8d96-bb6700d6a1b3",
   "metadata": {},
   "outputs": [],
   "source": []
  }
 ],
 "metadata": {
  "kernelspec": {
   "display_name": "Python 3 (ipykernel)",
   "language": "python",
   "name": "python3"
  },
  "language_info": {
   "codemirror_mode": {
    "name": "ipython",
    "version": 3
   },
   "file_extension": ".py",
   "mimetype": "text/x-python",
   "name": "python",
   "nbconvert_exporter": "python",
   "pygments_lexer": "ipython3",
   "version": "3.10.0"
  }
 },
 "nbformat": 4,
 "nbformat_minor": 5
}
