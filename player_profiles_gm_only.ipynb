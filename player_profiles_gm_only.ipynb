{
 "cells": [
  {
   "cell_type": "code",
   "execution_count": 20,
   "id": "c6174841-20ba-48af-b71c-5158ba94d092",
   "metadata": {},
   "outputs": [],
   "source": [
    "## Imports\n",
    "from chessdotcom import *\n",
    "from preprocess import *\n",
    "\n",
    "import numpy as np\n",
    "import pandas as pd\n",
    "import pickle"
   ]
  },
  {
   "cell_type": "code",
   "execution_count": 21,
   "id": "53f6ed6d-fc03-4d9c-96a2-ba83ceef2b60",
   "metadata": {},
   "outputs": [],
   "source": [
    "## Configure Headers, as the Project uses requests package to interact with the API. Headers and paxis can be set\n",
    "## through the Client Object.\n",
    "from chessdotcom import Client\n",
    "\n",
    "Client.request_config[\"headers\"][\"User-Agent\"] = (\n",
    " \"Machine learning for chess match outcome Prediction, BSc in Computer Science Dissertation, University of Lincoln\"\n",
    " \"Contact me at conorjackvincent@live.co.uk\"\n",
    ")\n",
    "\n",
    "# Implement rate limiting to be applied to any method used within the chessdotcom library.\n",
    "Client.rate_limit_handler.tries = 2\n",
    "Client.rate_limit_handler.tts = 4"
   ]
  },
  {
   "cell_type": "code",
   "execution_count": 23,
   "id": "2ed90c53-5374-43e6-9c16-7244df5d36b2",
   "metadata": {},
   "outputs": [],
   "source": [
    "gm_list = titled_player_names(\"GM\")\n",
    "wgm_list = titled_player_names(\"WGM\") "
   ]
  },
  {
   "cell_type": "code",
   "execution_count": 24,
   "id": "4038104c-13dd-44cd-9e2b-2a2600059321",
   "metadata": {},
   "outputs": [
    {
     "name": "stdout",
     "output_type": "stream",
     "text": [
      "Number of GMs: 1540, Number of WGMs: 222\n"
     ]
    }
   ],
   "source": [
    "print(f\"Number of GMs: {len(gm_list)}, Number of WGMs: {len(wgm_list)}\")"
   ]
  },
  {
   "cell_type": "code",
   "execution_count": 26,
   "id": "607bc472-75cf-4515-a46f-a6438866b41e",
   "metadata": {},
   "outputs": [],
   "source": [
    "# Gather two lists, one of all GM player profiles and another with failed GM usernames.\n",
    "list1, list1_failed = build_df_player_profiles(gm_list)"
   ]
  },
  {
   "cell_type": "code",
   "execution_count": 27,
   "id": "1bd49077-50e5-41fa-8b25-339b7c210642",
   "metadata": {},
   "outputs": [],
   "source": [
    "# Gather two lists, one of all WGM player profiles and another with failed WGM usernames.\n",
    "list2, list2_failed = build_df_player_profiles(wgm_list)"
   ]
  },
  {
   "cell_type": "code",
   "execution_count": 28,
   "id": "a991f83f-31ea-4d9b-ae7a-53f9edb34971",
   "metadata": {},
   "outputs": [
    {
     "data": {
      "text/html": [
       "<div>\n",
       "<style scoped>\n",
       "    .dataframe tbody tr th:only-of-type {\n",
       "        vertical-align: middle;\n",
       "    }\n",
       "\n",
       "    .dataframe tbody tr th {\n",
       "        vertical-align: top;\n",
       "    }\n",
       "\n",
       "    .dataframe thead th {\n",
       "        text-align: right;\n",
       "    }\n",
       "</style>\n",
       "<table border=\"1\" class=\"dataframe\">\n",
       "  <thead>\n",
       "    <tr style=\"text-align: right;\">\n",
       "      <th></th>\n",
       "      <th>name</th>\n",
       "      <th>username</th>\n",
       "      <th>title</th>\n",
       "      <th>followers</th>\n",
       "      <th>country_code</th>\n",
       "      <th>country</th>\n",
       "      <th>status</th>\n",
       "      <th>is_streamer</th>\n",
       "      <th>verified</th>\n",
       "      <th>league</th>\n",
       "    </tr>\n",
       "  </thead>\n",
       "  <tbody>\n",
       "    <tr>\n",
       "      <th>589</th>\n",
       "      <td>todor todorov</td>\n",
       "      <td>gmtodorov</td>\n",
       "      <td>GM</td>\n",
       "      <td>36</td>\n",
       "      <td>FR</td>\n",
       "      <td>France</td>\n",
       "      <td>premium</td>\n",
       "      <td>False</td>\n",
       "      <td>False</td>\n",
       "      <td>Wood</td>\n",
       "    </tr>\n",
       "    <tr>\n",
       "      <th>1535</th>\n",
       "      <td>Alexander Zubov</td>\n",
       "      <td>zubov_on_youtube</td>\n",
       "      <td>GM</td>\n",
       "      <td>5</td>\n",
       "      <td>UA</td>\n",
       "      <td>Ukraine</td>\n",
       "      <td>basic</td>\n",
       "      <td>False</td>\n",
       "      <td>False</td>\n",
       "      <td>None</td>\n",
       "    </tr>\n",
       "    <tr>\n",
       "      <th>1457</th>\n",
       "      <td>Vladimir Belous</td>\n",
       "      <td>vladimirbelous</td>\n",
       "      <td>GM</td>\n",
       "      <td>271</td>\n",
       "      <td>US</td>\n",
       "      <td>United States</td>\n",
       "      <td>premium</td>\n",
       "      <td>False</td>\n",
       "      <td>False</td>\n",
       "      <td>Crystal</td>\n",
       "    </tr>\n",
       "    <tr>\n",
       "      <th>452</th>\n",
       "      <td>Bharath Subramaniyam.H Harishankkar</td>\n",
       "      <td>fghsmn</td>\n",
       "      <td>GM</td>\n",
       "      <td>154</td>\n",
       "      <td>IN</td>\n",
       "      <td>India</td>\n",
       "      <td>premium</td>\n",
       "      <td>False</td>\n",
       "      <td>False</td>\n",
       "      <td>Champion</td>\n",
       "    </tr>\n",
       "    <tr>\n",
       "      <th>1073</th>\n",
       "      <td>Deivy Vera Siguenas</td>\n",
       "      <td>nuidisvulko</td>\n",
       "      <td>GM</td>\n",
       "      <td>41</td>\n",
       "      <td>PE</td>\n",
       "      <td>Peru</td>\n",
       "      <td>premium</td>\n",
       "      <td>False</td>\n",
       "      <td>False</td>\n",
       "      <td>Stone</td>\n",
       "    </tr>\n",
       "    <tr>\n",
       "      <th>196</th>\n",
       "      <td>Tereza Rodshtein</td>\n",
       "      <td>terezarodshtein</td>\n",
       "      <td>WGM</td>\n",
       "      <td>4</td>\n",
       "      <td>CZ</td>\n",
       "      <td>Czech Republic</td>\n",
       "      <td>premium</td>\n",
       "      <td>False</td>\n",
       "      <td>False</td>\n",
       "      <td>None</td>\n",
       "    </tr>\n",
       "    <tr>\n",
       "      <th>966</th>\n",
       "      <td>Zong-Yuan Zhao</td>\n",
       "      <td>megazz</td>\n",
       "      <td>GM</td>\n",
       "      <td>733</td>\n",
       "      <td>AU</td>\n",
       "      <td>Australia</td>\n",
       "      <td>premium</td>\n",
       "      <td>False</td>\n",
       "      <td>False</td>\n",
       "      <td>Legend</td>\n",
       "    </tr>\n",
       "    <tr>\n",
       "      <th>791</th>\n",
       "      <td>Gregory Kaidanov</td>\n",
       "      <td>kaidanov</td>\n",
       "      <td>GM</td>\n",
       "      <td>238</td>\n",
       "      <td>US</td>\n",
       "      <td>United States</td>\n",
       "      <td>premium</td>\n",
       "      <td>False</td>\n",
       "      <td>False</td>\n",
       "      <td>Stone</td>\n",
       "    </tr>\n",
       "    <tr>\n",
       "      <th>981</th>\n",
       "      <td>Arman Mikaelyan</td>\n",
       "      <td>mikaelyanarman</td>\n",
       "      <td>GM</td>\n",
       "      <td>153</td>\n",
       "      <td>US</td>\n",
       "      <td>United States</td>\n",
       "      <td>premium</td>\n",
       "      <td>False</td>\n",
       "      <td>False</td>\n",
       "      <td>Champion</td>\n",
       "    </tr>\n",
       "    <tr>\n",
       "      <th>1139</th>\n",
       "      <td>Damian Lemos</td>\n",
       "      <td>playpositional</td>\n",
       "      <td>GM</td>\n",
       "      <td>174</td>\n",
       "      <td>XE</td>\n",
       "      <td>England</td>\n",
       "      <td>premium</td>\n",
       "      <td>False</td>\n",
       "      <td>False</td>\n",
       "      <td>None</td>\n",
       "    </tr>\n",
       "  </tbody>\n",
       "</table>\n",
       "</div>"
      ],
      "text/plain": [
       "                                     name          username title  followers  \\\n",
       "589                         todor todorov         gmtodorov    GM         36   \n",
       "1535                      Alexander Zubov  zubov_on_youtube    GM          5   \n",
       "1457                      Vladimir Belous    vladimirbelous    GM        271   \n",
       "452   Bharath Subramaniyam.H Harishankkar            fghsmn    GM        154   \n",
       "1073                  Deivy Vera Siguenas       nuidisvulko    GM         41   \n",
       "196                      Tereza Rodshtein   terezarodshtein   WGM          4   \n",
       "966                        Zong-Yuan Zhao            megazz    GM        733   \n",
       "791                      Gregory Kaidanov          kaidanov    GM        238   \n",
       "981                       Arman Mikaelyan    mikaelyanarman    GM        153   \n",
       "1139                         Damian Lemos    playpositional    GM        174   \n",
       "\n",
       "     country_code         country   status  is_streamer  verified    league  \n",
       "589            FR          France  premium        False     False      Wood  \n",
       "1535           UA         Ukraine    basic        False     False      None  \n",
       "1457           US   United States  premium        False     False   Crystal  \n",
       "452            IN           India  premium        False     False  Champion  \n",
       "1073           PE            Peru  premium        False     False     Stone  \n",
       "196            CZ  Czech Republic  premium        False     False      None  \n",
       "966            AU       Australia  premium        False     False    Legend  \n",
       "791            US   United States  premium        False     False     Stone  \n",
       "981            US   United States  premium        False     False  Champion  \n",
       "1139           XE         England  premium        False     False      None  "
      ]
     },
     "execution_count": 28,
     "metadata": {},
     "output_type": "execute_result"
    }
   ],
   "source": [
    "# # Create a list with the relevant column names, which can be seen from the original ChessDotCom Response.\n",
    "column_names = [\"name\", \"username\", \"title\", \"followers\", \"country_code\", \"country\", \"status\", \"is_streamer\", \"verified\", \"league\"]\n",
    "\n",
    "# # Put all the player profile listed data into pandas dataframes with the column names.\n",
    "plist1 = pd.DataFrame(list1, columns=column_names)\n",
    "plist2 = pd.DataFrame(list2, columns=column_names)\n",
    "\n",
    "data_frames = [plist1, plist2]\n",
    "\n",
    "gm_wgm_player_profiles = pd.concat(data_frames)\n",
    "\n",
    "# Sample the dataframe, and show the head to get a visual representation of the data currently.\n",
    "df_elements = gm_wgm_player_profiles.sample(n=10)\n",
    "df_elements.head(10)"
   ]
  },
  {
   "cell_type": "code",
   "execution_count": 29,
   "id": "94b888b0-a8ab-4780-9d52-9c882a0d5a99",
   "metadata": {},
   "outputs": [
    {
     "name": "stdout",
     "output_type": "stream",
     "text": [
      "<class 'pandas.core.frame.DataFrame'>\n",
      "Index: 1762 entries, 0 to 221\n",
      "Data columns (total 10 columns):\n",
      " #   Column        Non-Null Count  Dtype \n",
      "---  ------        --------------  ----- \n",
      " 0   name          1485 non-null   object\n",
      " 1   username      1762 non-null   object\n",
      " 2   title         1762 non-null   object\n",
      " 3   followers     1762 non-null   int64 \n",
      " 4   country_code  1762 non-null   object\n",
      " 5   country       1762 non-null   object\n",
      " 6   status        1762 non-null   object\n",
      " 7   is_streamer   1762 non-null   bool  \n",
      " 8   verified      1762 non-null   bool  \n",
      " 9   league        1412 non-null   object\n",
      "dtypes: bool(2), int64(1), object(7)\n",
      "memory usage: 127.3+ KB\n"
     ]
    }
   ],
   "source": [
    "gm_wgm_player_profiles.info()"
   ]
  },
  {
   "cell_type": "code",
   "execution_count": 30,
   "id": "f5802904-1926-44fb-b7fc-49018f47cd58",
   "metadata": {},
   "outputs": [
    {
     "name": "stdout",
     "output_type": "stream",
     "text": [
      "0\n"
     ]
    }
   ],
   "source": [
    "print(len(list1_failed))"
   ]
  },
  {
   "cell_type": "code",
   "execution_count": 31,
   "id": "eba63bac-7b01-4d47-87a7-e63b878b4c34",
   "metadata": {},
   "outputs": [
    {
     "name": "stdout",
     "output_type": "stream",
     "text": [
      "0\n"
     ]
    }
   ],
   "source": [
    "print(len(list2_failed))"
   ]
  },
  {
   "cell_type": "code",
   "execution_count": 32,
   "id": "9db5cc9f-47b5-4b19-83b1-44e751a9ed47",
   "metadata": {},
   "outputs": [],
   "source": [
    "with open('Collected_Chess_Data/gm_wgm_player_profiles.pkl', 'wb') as file:\n",
    "    pickle.dump(gm_wgm_player_profiles, file)"
   ]
  },
  {
   "cell_type": "code",
   "execution_count": 33,
   "id": "b7923d57-79f0-4fe9-9cec-856960f588da",
   "metadata": {},
   "outputs": [],
   "source": [
    "with open('Collected_Chess_Data/gm_wgm_player_profiles.pkl', 'rb') as file:\n",
    "    loaded_first_frame = pickle.load(file)"
   ]
  },
  {
   "cell_type": "code",
   "execution_count": 34,
   "id": "a87c1921-fba2-4f74-9bb2-6a14e53ed564",
   "metadata": {},
   "outputs": [
    {
     "name": "stdout",
     "output_type": "stream",
     "text": [
      "<class 'pandas.core.frame.DataFrame'>\n",
      "Index: 1762 entries, 0 to 221\n",
      "Data columns (total 10 columns):\n",
      " #   Column        Non-Null Count  Dtype \n",
      "---  ------        --------------  ----- \n",
      " 0   name          1485 non-null   object\n",
      " 1   username      1762 non-null   object\n",
      " 2   title         1762 non-null   object\n",
      " 3   followers     1762 non-null   int64 \n",
      " 4   country_code  1762 non-null   object\n",
      " 5   country       1762 non-null   object\n",
      " 6   status        1762 non-null   object\n",
      " 7   is_streamer   1762 non-null   bool  \n",
      " 8   verified      1762 non-null   bool  \n",
      " 9   league        1412 non-null   object\n",
      "dtypes: bool(2), int64(1), object(7)\n",
      "memory usage: 127.3+ KB\n"
     ]
    }
   ],
   "source": [
    "# Display the open first frame pkl file to check its contents.\n",
    "loaded_first_frame.info()"
   ]
  },
  {
   "cell_type": "code",
   "execution_count": null,
   "id": "57cb5c2a-c2d6-4d41-8071-9490228be75d",
   "metadata": {},
   "outputs": [],
   "source": []
  }
 ],
 "metadata": {
  "kernelspec": {
   "display_name": "Python 3 (ipykernel)",
   "language": "python",
   "name": "python3"
  },
  "language_info": {
   "codemirror_mode": {
    "name": "ipython",
    "version": 3
   },
   "file_extension": ".py",
   "mimetype": "text/x-python",
   "name": "python",
   "nbconvert_exporter": "python",
   "pygments_lexer": "ipython3",
   "version": "3.10.0"
  }
 },
 "nbformat": 4,
 "nbformat_minor": 5
}
